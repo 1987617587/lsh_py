{
 "cells": [
  {
   "cell_type": "markdown",
   "metadata": {},
   "source": [
    "# 数据文件HS300.txt和SGX CN.txt包含日期数据，计算：\n",
    "# HS300.txt中出现，SGX CN.txt没出现的日期\n",
    "# SGX CN.txt中出现，HS300.txt没出现的日期"
   ]
  },
  {
   "cell_type": "code",
   "execution_count": 2,
   "metadata": {},
   "outputs": [],
   "source": [
    "import pandas as pd\n",
    "import numpy as np"
   ]
  },
  {
   "cell_type": "code",
   "execution_count": 6,
   "metadata": {},
   "outputs": [
    {
     "name": "stdout",
     "output_type": "stream",
     "text": [
      "          key data1\n",
      "0  2018-12-01     a\n",
      "1  2018-12-02     a\n",
      "2  2018-12-03     a\n",
      "3  2018-12-04     a\n",
      "4  2018-12-05     a\n"
     ]
    }
   ],
   "source": [
    "\n",
    "df_obj1 = pd.read_csv(\"data/HS300.txt\")\n",
    "df_obj1['data1']='a'\n",
    "print(df_obj1)\n"
   ]
  },
  {
   "cell_type": "code",
   "execution_count": 5,
   "metadata": {},
   "outputs": [
    {
     "name": "stdout",
     "output_type": "stream",
     "text": [
      "          key data2\n",
      "0  2018-12-03     b\n",
      "1  2018-12-04     b\n",
      "2  2018-12-05     b\n",
      "3  2018-12-06     b\n",
      "4  2018-12-07     b\n"
     ]
    }
   ],
   "source": [
    "\n",
    "df_obj2 = pd.read_csv(\"data/SGXCN.txt\")\n",
    "df_obj2['data2']='b'\n",
    "print(df_obj2)\n"
   ]
  },
  {
   "cell_type": "markdown",
   "metadata": {},
   "source": [
    "# 数据连接\n"
   ]
  },
  {
   "cell_type": "code",
   "execution_count": 7,
   "metadata": {},
   "outputs": [
    {
     "name": "stdout",
     "output_type": "stream",
     "text": [
      "          key data1 data2\n",
      "0  2018-12-01     a   NaN\n",
      "1  2018-12-02     a   NaN\n",
      "2  2018-12-03     a     b\n",
      "3  2018-12-04     a     b\n",
      "4  2018-12-05     a     b\n",
      "5  2018-12-06   NaN     b\n",
      "6  2018-12-07   NaN     b\n"
     ]
    }
   ],
   "source": [
    "df_obj3 = pd.merge(df_obj1,df_obj2,how=\"outer\")\n",
    "print(df_obj3)"
   ]
  },
  {
   "cell_type": "markdown",
   "metadata": {},
   "source": [
    "# HS300.txt中出现，SGX CN.txt没出现的日期"
   ]
  },
  {
   "cell_type": "code",
   "execution_count": 10,
   "metadata": {},
   "outputs": [
    {
     "name": "stdout",
     "output_type": "stream",
     "text": [
      "0     True\n",
      "1     True\n",
      "2    False\n",
      "3    False\n",
      "4    False\n",
      "5    False\n",
      "6    False\n",
      "Name: data2, dtype: bool\n",
      "0    2018-12-01\n",
      "1    2018-12-02\n",
      "Name: key, dtype: object\n"
     ]
    }
   ],
   "source": [
    "condition = pd.isna(df_obj3['data2'])\n",
    "print(condition)\n",
    "print(df_obj3[condition]['key'])"
   ]
  },
  {
   "cell_type": "markdown",
   "metadata": {},
   "source": [
    "# SGX CN.txt中出现，HS300.txt没出现的日期"
   ]
  },
  {
   "cell_type": "code",
   "execution_count": 11,
   "metadata": {},
   "outputs": [
    {
     "name": "stdout",
     "output_type": "stream",
     "text": [
      "0    False\n",
      "1    False\n",
      "2    False\n",
      "3    False\n",
      "4    False\n",
      "5     True\n",
      "6     True\n",
      "Name: data1, dtype: bool\n",
      "5    2018-12-06\n",
      "6    2018-12-07\n",
      "Name: key, dtype: object\n"
     ]
    }
   ],
   "source": [
    "condition = pd.isna(df_obj3['data1'])\n",
    "print(condition)\n",
    "print(df_obj3[condition]['key'])"
   ]
  },
  {
   "cell_type": "code",
   "execution_count": null,
   "metadata": {},
   "outputs": [],
   "source": []
  },
  {
   "cell_type": "code",
   "execution_count": null,
   "metadata": {},
   "outputs": [],
   "source": []
  },
  {
   "cell_type": "code",
   "execution_count": null,
   "metadata": {},
   "outputs": [],
   "source": []
  },
  {
   "cell_type": "code",
   "execution_count": null,
   "metadata": {},
   "outputs": [],
   "source": []
  },
  {
   "cell_type": "code",
   "execution_count": null,
   "metadata": {},
   "outputs": [],
   "source": []
  },
  {
   "cell_type": "code",
   "execution_count": null,
   "metadata": {},
   "outputs": [],
   "source": []
  }
 ],
 "metadata": {
  "kernelspec": {
   "display_name": "Python 3",
   "language": "python",
   "name": "python3"
  },
  "language_info": {
   "codemirror_mode": {
    "name": "ipython",
    "version": 3
   },
   "file_extension": ".py",
   "mimetype": "text/x-python",
   "name": "python",
   "nbconvert_exporter": "python",
   "pygments_lexer": "ipython3",
   "version": "3.6.8"
  }
 },
 "nbformat": 4,
 "nbformat_minor": 4
}
