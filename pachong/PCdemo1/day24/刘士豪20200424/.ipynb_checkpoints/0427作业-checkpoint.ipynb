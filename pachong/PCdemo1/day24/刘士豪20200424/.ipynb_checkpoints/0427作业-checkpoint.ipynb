{
 "cells": [
  {
   "cell_type": "markdown",
   "metadata": {},
   "source": [
    "# 数据文件HS300.txt和SGX CN.txt包含日期数据，计算：\n",
    "# HS300.txt中出现，SGX CN.txt没出现的日期\n",
    "# SGX CN.txt中出现，HS300.txt没出现的日期"
   ]
  },
  {
   "cell_type": "code",
   "execution_count": 1,
   "metadata": {},
   "outputs": [],
   "source": [
    "import pandas as pd\n",
    "import numpy as np"
   ]
  },
  {
   "cell_type": "code",
   "execution_count": null,
   "metadata": {},
   "outputs": [],
   "source": [
    "\n",
    "\n"
   ]
  },
  {
   "cell_type": "code",
   "execution_count": null,
   "metadata": {},
   "outputs": [],
   "source": [
    "\n"
   ]
  },
  {
   "cell_type": "code",
   "execution_count": null,
   "metadata": {},
   "outputs": [],
   "source": []
  },
  {
   "cell_type": "code",
   "execution_count": 13,
   "metadata": {},
   "outputs": [
    {
     "name": "stdout",
     "output_type": "stream",
     "text": [
      "﻿key\n",
      "2018-12-01\n",
      "2018-12-02\n",
      "2018-12-03\n",
      "2018-12-04\n",
      "2018-12-05\n",
      "['\\ufeffkey', '2018-12-01', '2018-12-02', '2018-12-03', '2018-12-04', '2018-12-05']\n",
      "          key\n",
      "0  2018-12-01\n",
      "1  2018-12-02\n",
      "2  2018-12-03\n",
      "3  2018-12-04\n",
      "4  2018-12-05\n"
     ]
    }
   ],
   "source": [
    "with open(\"data/HS300.txt\", \"r\",encoding='utf-8') as f:\n",
    "    arr1 = []\n",
    "    for line in f.readlines():\n",
    "        line = line.strip('\\n')  #去掉列表中每一个元素的换行符\n",
    "        print(line)\n",
    "        arr1.append(line)\n",
    "print(arr1)\n",
    "# df_obj1 = pd.Series(arr1[1:])\n",
    "df_obj1 = pd.DataFrame(arr1[1:], columns = ['key'])\n",
    "print(df_obj1)"
   ]
  },
  {
   "cell_type": "code",
   "execution_count": 12,
   "metadata": {},
   "outputs": [
    {
     "name": "stdout",
     "output_type": "stream",
     "text": [
      "﻿key\n",
      "2018-12-03\n",
      "2018-12-04\n",
      "2018-12-05\n",
      "2018-12-06\n",
      "2018-12-07\n",
      "['\\ufeffkey', '2018-12-03', '2018-12-04', '2018-12-05', '2018-12-06', '2018-12-07']\n",
      "          key\n",
      "0  2018-12-03\n",
      "1  2018-12-04\n",
      "2  2018-12-05\n",
      "3  2018-12-06\n",
      "4  2018-12-07\n"
     ]
    }
   ],
   "source": [
    "with open(\"data/SGXCN.txt\", \"r\",encoding='utf-8') as f:\n",
    "    arr2 = []\n",
    "    for line in f.readlines():\n",
    "        line = line.strip('\\n')  #去掉列表中每一个元素的换行符\n",
    "        print(line)\n",
    "        arr2.append(line)\n",
    "print(arr2)\n",
    "# df_obj2 = pd.Series(arr2[1:])\n",
    "df_obj2 = pd.DataFrame(arr2[1:], columns = ['key'])\n",
    "print(df_obj2)"
   ]
  },
  {
   "cell_type": "code",
   "execution_count": 18,
   "metadata": {},
   "outputs": [
    {
     "name": "stdout",
     "output_type": "stream",
     "text": [
      "          key\n",
      "0  2018-12-01\n",
      "1  2018-12-02\n",
      "2  2018-12-03\n",
      "3  2018-12-04\n",
      "4  2018-12-05           key\n",
      "0  2018-12-03\n",
      "1  2018-12-04\n",
      "2  2018-12-05\n",
      "3  2018-12-06\n",
      "4  2018-12-07\n",
      "          key\n",
      "0  2018-12-01\n",
      "1  2018-12-02\n",
      "2  2018-12-03\n",
      "3  2018-12-04\n",
      "4  2018-12-05\n",
      "5  2018-12-06\n",
      "6  2018-12-07\n"
     ]
    }
   ],
   "source": [
    "#外连接 并集\n",
    "print(df_obj1,df_obj2)\n",
    "print(pd.merge(df_obj1,df_obj2,left_on=\"key\",right_on=\"key\",how=\"outer\"))\n",
    "bing_data = pd.merge(df_obj1,df_obj2,left_on=\"key\",right_on=\"key\",how=\"outer\")\n"
   ]
  },
  {
   "cell_type": "code",
   "execution_count": 20,
   "metadata": {},
   "outputs": [
    {
     "name": "stdout",
     "output_type": "stream",
     "text": [
      "          key\n",
      "0  2018-12-03\n",
      "1  2018-12-04\n",
      "2  2018-12-05\n"
     ]
    }
   ],
   "source": [
    "# 默认连接（如果没有指定外键，那么默认使用相同的列名作为外键merge默认是內连接，结果是所有数据的交集）\n",
    "print(pd.merge(df_obj1,df_obj2,on = \"key\"))\n",
    "jiao_data = pd.merge(df_obj1,df_obj2,on = \"key\")"
   ]
  },
  {
   "cell_type": "code",
   "execution_count": 24,
   "metadata": {},
   "outputs": [
    {
     "data": {
      "text/html": [
       "<div>\n",
       "<style scoped>\n",
       "    .dataframe tbody tr th:only-of-type {\n",
       "        vertical-align: middle;\n",
       "    }\n",
       "\n",
       "    .dataframe tbody tr th {\n",
       "        vertical-align: top;\n",
       "    }\n",
       "\n",
       "    .dataframe thead th {\n",
       "        text-align: right;\n",
       "    }\n",
       "</style>\n",
       "<table border=\"1\" class=\"dataframe\">\n",
       "  <thead>\n",
       "    <tr style=\"text-align: right;\">\n",
       "      <th></th>\n",
       "      <th>key</th>\n",
       "    </tr>\n",
       "  </thead>\n",
       "  <tbody>\n",
       "    <tr>\n",
       "      <th>0</th>\n",
       "      <td>2018-12-01</td>\n",
       "    </tr>\n",
       "    <tr>\n",
       "      <th>1</th>\n",
       "      <td>2018-12-02</td>\n",
       "    </tr>\n",
       "    <tr>\n",
       "      <th>2</th>\n",
       "      <td>2018-12-03</td>\n",
       "    </tr>\n",
       "    <tr>\n",
       "      <th>3</th>\n",
       "      <td>2018-12-04</td>\n",
       "    </tr>\n",
       "    <tr>\n",
       "      <th>4</th>\n",
       "      <td>2018-12-05</td>\n",
       "    </tr>\n",
       "    <tr>\n",
       "      <th>5</th>\n",
       "      <td>2018-12-06</td>\n",
       "    </tr>\n",
       "    <tr>\n",
       "      <th>6</th>\n",
       "      <td>2018-12-07</td>\n",
       "    </tr>\n",
       "  </tbody>\n",
       "</table>\n",
       "</div>"
      ],
      "text/plain": [
       "          key\n",
       "0  2018-12-01\n",
       "1  2018-12-02\n",
       "2  2018-12-03\n",
       "3  2018-12-04\n",
       "4  2018-12-05\n",
       "5  2018-12-06\n",
       "6  2018-12-07"
      ]
     },
     "execution_count": 24,
     "metadata": {},
     "output_type": "execute_result"
    }
   ],
   "source": [
    "pd.merge(df_obj1,bing_data,left_on = \"key\",right_on= \"key\",how=\"right\")"
   ]
  },
  {
   "cell_type": "code",
   "execution_count": 22,
   "metadata": {},
   "outputs": [
    {
     "data": {
      "text/html": [
       "<div>\n",
       "<style scoped>\n",
       "    .dataframe tbody tr th:only-of-type {\n",
       "        vertical-align: middle;\n",
       "    }\n",
       "\n",
       "    .dataframe tbody tr th {\n",
       "        vertical-align: top;\n",
       "    }\n",
       "\n",
       "    .dataframe thead th {\n",
       "        text-align: right;\n",
       "    }\n",
       "</style>\n",
       "<table border=\"1\" class=\"dataframe\">\n",
       "  <thead>\n",
       "    <tr style=\"text-align: right;\">\n",
       "      <th></th>\n",
       "      <th>key</th>\n",
       "    </tr>\n",
       "  </thead>\n",
       "  <tbody>\n",
       "    <tr>\n",
       "      <th>0</th>\n",
       "      <td>2018-12-03</td>\n",
       "    </tr>\n",
       "    <tr>\n",
       "      <th>1</th>\n",
       "      <td>2018-12-04</td>\n",
       "    </tr>\n",
       "    <tr>\n",
       "      <th>2</th>\n",
       "      <td>2018-12-05</td>\n",
       "    </tr>\n",
       "  </tbody>\n",
       "</table>\n",
       "</div>"
      ],
      "text/plain": [
       "          key\n",
       "0  2018-12-03\n",
       "1  2018-12-04\n",
       "2  2018-12-05"
      ]
     },
     "execution_count": 22,
     "metadata": {},
     "output_type": "execute_result"
    }
   ],
   "source": [
    "pd.merge(df_obj1,jiao_data,left_on = \"key\",right_on= \"key\",how=\" \")"
   ]
  },
  {
   "cell_type": "code",
   "execution_count": null,
   "metadata": {},
   "outputs": [],
   "source": []
  }
 ],
 "metadata": {
  "kernelspec": {
   "display_name": "Python 3",
   "language": "python",
   "name": "python3"
  },
  "language_info": {
   "codemirror_mode": {
    "name": "ipython",
    "version": 3
   },
   "file_extension": ".py",
   "mimetype": "text/x-python",
   "name": "python",
   "nbconvert_exporter": "python",
   "pygments_lexer": "ipython3",
   "version": "3.6.8"
  }
 },
 "nbformat": 4,
 "nbformat_minor": 4
}
