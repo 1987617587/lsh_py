{
 "cells": [
  {
   "cell_type": "code",
   "execution_count": 1,
   "metadata": {},
   "outputs": [],
   "source": [
    "import pandas as pd\n",
    "import numpy as np"
   ]
  },
  {
   "cell_type": "markdown",
   "metadata": {},
   "source": [
    "# 数据连接"
   ]
  },
  {
   "cell_type": "code",
   "execution_count": 3,
   "metadata": {},
   "outputs": [
    {
     "name": "stdout",
     "output_type": "stream",
     "text": [
      "  key  data1\n",
      "0   b      5\n",
      "1   b      0\n",
      "2   a      1\n",
      "3   c      6\n",
      "4   a      6\n",
      "5   a      8\n",
      "6   b      3\n"
     ]
    }
   ],
   "source": [
    "df_obj1 = pd.DataFrame({\n",
    "    'key':['b','b','a','c','a','a','b'],\n",
    "    'data1':np.random.randint(0,10,7)\n",
    "})\n",
    "\n",
    "print(df_obj1)"
   ]
  },
  {
   "cell_type": "code",
   "execution_count": 9,
   "metadata": {},
   "outputs": [
    {
     "name": "stdout",
     "output_type": "stream",
     "text": [
      "  key  data2\n",
      "0   a      4\n",
      "1   b      6\n",
      "2   d      0\n"
     ]
    }
   ],
   "source": [
    "df_obj2 = pd.DataFrame({\n",
    "    'key':['a','b','d'],\n",
    "    'data2':np.random.randint(0,10,3)\n",
    "})\n",
    "print(df_obj2)"
   ]
  },
  {
   "cell_type": "code",
   "execution_count": 10,
   "metadata": {},
   "outputs": [
    {
     "name": "stdout",
     "output_type": "stream",
     "text": [
      "  key  data1  data2\n",
      "0   b      5      6\n",
      "1   b      0      6\n",
      "2   b      3      6\n",
      "3   a      1      4\n",
      "4   a      6      4\n",
      "5   a      8      4\n"
     ]
    }
   ],
   "source": [
    "# 连接\n",
    "print(pd.merge(df_obj1,df_obj2))"
   ]
  },
  {
   "cell_type": "code",
   "execution_count": 15,
   "metadata": {},
   "outputs": [
    {
     "name": "stdout",
     "output_type": "stream",
     "text": [
      "  key  data1  data2\n",
      "0   b      5      6\n",
      "1   b      0      6\n",
      "2   b      3      6\n",
      "3   a      1      4\n",
      "4   a      6      4\n",
      "5   a      8      4\n"
     ]
    }
   ],
   "source": [
    "print(pd.merge(df_obj1,df_obj2,on='key'))"
   ]
  },
  {
   "cell_type": "code",
   "execution_count": 17,
   "metadata": {},
   "outputs": [
    {
     "name": "stdout",
     "output_type": "stream",
     "text": [
      "{4, 5, 6}\n",
      "{3, 4, 5, 6, 7}\n"
     ]
    }
   ],
   "source": [
    "a = {3,4,5,6} \n",
    "b = {4,5,6,7}\n",
    "print(a & b ) #{4,5,6} #交集\n",
    "print(a | b ) #{3,4,5,6,7} #并集"
   ]
  },
  {
   "cell_type": "markdown",
   "metadata": {},
   "source": [
    "## 指定连接方式"
   ]
  },
  {
   "cell_type": "code",
   "execution_count": 21,
   "metadata": {},
   "outputs": [
    {
     "name": "stdout",
     "output_type": "stream",
     "text": [
      "  key  data1\n",
      "0   b      5\n",
      "1   b      0\n",
      "2   a      1\n",
      "3   c      6\n",
      "4   a      6\n",
      "5   a      8\n",
      "6   b      3 \n",
      "   key  data2\n",
      "0   a      4\n",
      "1   b      6\n",
      "2   d      0\n",
      "  key  data1  data2\n",
      "0   b    5.0    6.0\n",
      "1   b    0.0    6.0\n",
      "2   b    3.0    6.0\n",
      "3   a    1.0    4.0\n",
      "4   a    6.0    4.0\n",
      "5   a    8.0    4.0\n",
      "6   c    6.0    NaN\n",
      "7   d    NaN    0.0\n"
     ]
    }
   ],
   "source": [
    "#外连接\n",
    "print(df_obj1,'\\n',df_obj2)\n",
    "print(pd.merge(df_obj1,df_obj2,how=\"outer\"))"
   ]
  },
  {
   "cell_type": "code",
   "execution_count": 22,
   "metadata": {},
   "outputs": [
    {
     "name": "stdout",
     "output_type": "stream",
     "text": [
      "  key  data1\n",
      "0   b      5\n",
      "1   b      0\n",
      "2   a      1\n",
      "3   c      6\n",
      "4   a      6\n",
      "5   a      8\n",
      "6   b      3 \n",
      "   key  data2\n",
      "0   a      4\n",
      "1   b      6\n",
      "2   d      0\n"
     ]
    },
    {
     "data": {
      "text/html": [
       "<div>\n",
       "<style scoped>\n",
       "    .dataframe tbody tr th:only-of-type {\n",
       "        vertical-align: middle;\n",
       "    }\n",
       "\n",
       "    .dataframe tbody tr th {\n",
       "        vertical-align: top;\n",
       "    }\n",
       "\n",
       "    .dataframe thead th {\n",
       "        text-align: right;\n",
       "    }\n",
       "</style>\n",
       "<table border=\"1\" class=\"dataframe\">\n",
       "  <thead>\n",
       "    <tr style=\"text-align: right;\">\n",
       "      <th></th>\n",
       "      <th>key</th>\n",
       "      <th>data1</th>\n",
       "      <th>data2</th>\n",
       "    </tr>\n",
       "  </thead>\n",
       "  <tbody>\n",
       "    <tr>\n",
       "      <th>0</th>\n",
       "      <td>b</td>\n",
       "      <td>5</td>\n",
       "      <td>6.0</td>\n",
       "    </tr>\n",
       "    <tr>\n",
       "      <th>1</th>\n",
       "      <td>b</td>\n",
       "      <td>0</td>\n",
       "      <td>6.0</td>\n",
       "    </tr>\n",
       "    <tr>\n",
       "      <th>2</th>\n",
       "      <td>a</td>\n",
       "      <td>1</td>\n",
       "      <td>4.0</td>\n",
       "    </tr>\n",
       "    <tr>\n",
       "      <th>3</th>\n",
       "      <td>c</td>\n",
       "      <td>6</td>\n",
       "      <td>NaN</td>\n",
       "    </tr>\n",
       "    <tr>\n",
       "      <th>4</th>\n",
       "      <td>a</td>\n",
       "      <td>6</td>\n",
       "      <td>4.0</td>\n",
       "    </tr>\n",
       "    <tr>\n",
       "      <th>5</th>\n",
       "      <td>a</td>\n",
       "      <td>8</td>\n",
       "      <td>4.0</td>\n",
       "    </tr>\n",
       "    <tr>\n",
       "      <th>6</th>\n",
       "      <td>b</td>\n",
       "      <td>3</td>\n",
       "      <td>6.0</td>\n",
       "    </tr>\n",
       "  </tbody>\n",
       "</table>\n",
       "</div>"
      ],
      "text/plain": [
       "  key  data1  data2\n",
       "0   b      5    6.0\n",
       "1   b      0    6.0\n",
       "2   a      1    4.0\n",
       "3   c      6    NaN\n",
       "4   a      6    4.0\n",
       "5   a      8    4.0\n",
       "6   b      3    6.0"
      ]
     },
     "execution_count": 22,
     "metadata": {},
     "output_type": "execute_result"
    }
   ],
   "source": [
    "# 左连接left\n",
    "# left 无论右边数据是否得到匹配，都会把左边数据全部显示范例\n",
    "print(df_obj1,'\\n',df_obj2)\n",
    "pd.merge(df_obj1,df_obj2,how=\"left\")"
   ]
  },
  {
   "cell_type": "code",
   "execution_count": 23,
   "metadata": {},
   "outputs": [
    {
     "name": "stdout",
     "output_type": "stream",
     "text": [
      "  key  data1\n",
      "0   b      5\n",
      "1   b      0\n",
      "2   a      1\n",
      "3   c      6\n",
      "4   a      6\n",
      "5   a      8\n",
      "6   b      3 \n",
      "   key  data2\n",
      "0   a      4\n",
      "1   b      6\n",
      "2   d      0\n"
     ]
    },
    {
     "data": {
      "text/html": [
       "<div>\n",
       "<style scoped>\n",
       "    .dataframe tbody tr th:only-of-type {\n",
       "        vertical-align: middle;\n",
       "    }\n",
       "\n",
       "    .dataframe tbody tr th {\n",
       "        vertical-align: top;\n",
       "    }\n",
       "\n",
       "    .dataframe thead th {\n",
       "        text-align: right;\n",
       "    }\n",
       "</style>\n",
       "<table border=\"1\" class=\"dataframe\">\n",
       "  <thead>\n",
       "    <tr style=\"text-align: right;\">\n",
       "      <th></th>\n",
       "      <th>key</th>\n",
       "      <th>data1</th>\n",
       "      <th>data2</th>\n",
       "    </tr>\n",
       "  </thead>\n",
       "  <tbody>\n",
       "    <tr>\n",
       "      <th>0</th>\n",
       "      <td>b</td>\n",
       "      <td>5.0</td>\n",
       "      <td>6</td>\n",
       "    </tr>\n",
       "    <tr>\n",
       "      <th>1</th>\n",
       "      <td>b</td>\n",
       "      <td>0.0</td>\n",
       "      <td>6</td>\n",
       "    </tr>\n",
       "    <tr>\n",
       "      <th>2</th>\n",
       "      <td>b</td>\n",
       "      <td>3.0</td>\n",
       "      <td>6</td>\n",
       "    </tr>\n",
       "    <tr>\n",
       "      <th>3</th>\n",
       "      <td>a</td>\n",
       "      <td>1.0</td>\n",
       "      <td>4</td>\n",
       "    </tr>\n",
       "    <tr>\n",
       "      <th>4</th>\n",
       "      <td>a</td>\n",
       "      <td>6.0</td>\n",
       "      <td>4</td>\n",
       "    </tr>\n",
       "    <tr>\n",
       "      <th>5</th>\n",
       "      <td>a</td>\n",
       "      <td>8.0</td>\n",
       "      <td>4</td>\n",
       "    </tr>\n",
       "    <tr>\n",
       "      <th>6</th>\n",
       "      <td>d</td>\n",
       "      <td>NaN</td>\n",
       "      <td>0</td>\n",
       "    </tr>\n",
       "  </tbody>\n",
       "</table>\n",
       "</div>"
      ],
      "text/plain": [
       "  key  data1  data2\n",
       "0   b    5.0      6\n",
       "1   b    0.0      6\n",
       "2   b    3.0      6\n",
       "3   a    1.0      4\n",
       "4   a    6.0      4\n",
       "5   a    8.0      4\n",
       "6   d    NaN      0"
      ]
     },
     "execution_count": 23,
     "metadata": {},
     "output_type": "execute_result"
    }
   ],
   "source": [
    "# 右连接right\n",
    "# right 无论左边数据是否得到匹配，都会把右边数据全部显示\n",
    "# 范例\n",
    "print(df_obj1,'\\n',df_obj2)\n",
    "pd.merge(df_obj1,df_obj2,how=\"right\")\n"
   ]
  },
  {
   "cell_type": "markdown",
   "metadata": {},
   "source": [
    "## suffixes处理重复列名"
   ]
  },
  {
   "cell_type": "code",
   "execution_count": 26,
   "metadata": {},
   "outputs": [
    {
     "name": "stdout",
     "output_type": "stream",
     "text": [
      "  key  data\n",
      "0   b     1\n",
      "1   b     3\n",
      "2   a     0\n",
      "3   c     8\n",
      "4   a     3\n",
      "5   a     8\n",
      "6   b     7 \n",
      "   key  data\n",
      "0   a     9\n",
      "1   b     2\n",
      "2   d     6\n",
      "  key  data_left  data_right\n",
      "0   b          1           2\n",
      "1   b          3           2\n",
      "2   b          7           2\n",
      "3   a          0           9\n",
      "4   a          3           9\n",
      "5   a          8           9\n"
     ]
    }
   ],
   "source": [
    "## suffixes处理重复列名\n",
    "# 如果两个数据的列名是相同的，那么指定一个外键，再将其它列名添加一个后缀，默认“_x””_y”\n",
    "# 范例\n",
    "df_obj1 = pd.DataFrame({\n",
    "    'key': ['b', 'b', 'a', 'c', 'a', 'a', 'b'],\n",
    "    'data' : np.random.randint(0,10,7)})\n",
    "df_obj2 = pd.DataFrame({\n",
    "    'key': ['a', 'b', 'd'],\n",
    "    'data' : np.random.randint(0,10,3)})\n",
    "print(df_obj1,'\\n',df_obj2)\n",
    "print(pd.merge(df_obj1, df_obj2, on='key', suffixes=('_left', '_right')))\n"
   ]
  },
  {
   "cell_type": "markdown",
   "metadata": {},
   "source": [
    "## 按索引连接"
   ]
  },
  {
   "cell_type": "code",
   "execution_count": 27,
   "metadata": {},
   "outputs": [
    {
     "name": "stdout",
     "output_type": "stream",
     "text": [
      "  key  data1\n",
      "0   b      3\n",
      "1   b      3\n",
      "2   a      9\n",
      "3   c      1\n",
      "4   a      5\n",
      "5   a      2\n",
      "6   b      9 \n",
      "    data2\n",
      "a      0\n",
      "b      5\n",
      "d      9\n",
      "  key  data1  data2\n",
      "0   b      3      5\n",
      "1   b      3      5\n",
      "6   b      9      5\n",
      "2   a      9      0\n",
      "4   a      5      0\n",
      "5   a      2      0\n"
     ]
    }
   ],
   "source": [
    "# left_index:使用左边DataFrame对象的行索引作为连接键\n",
    "# right_index:使用右边DataFrame对象的行索引作为连接键\n",
    "df_obj1 = pd.DataFrame({\n",
    "    'key': ['b', 'b', 'a', 'c', 'a', 'a', 'b'], \n",
    "    'data1' : np.random.randint(0,10,7)}) \n",
    "df_obj2 = pd.DataFrame({\n",
    "    'data2' : np.random.randint(0,10,3)},\n",
    "    index=['a', 'b', 'd']) \n",
    "print(df_obj1,'\\n',df_obj2)\n",
    "print(pd.merge(df_obj1, df_obj2, left_on='key', right_index=True))\n"
   ]
  },
  {
   "cell_type": "markdown",
   "metadata": {},
   "source": [
    "## 键名不同的连接"
   ]
  },
  {
   "cell_type": "code",
   "execution_count": 29,
   "metadata": {},
   "outputs": [
    {
     "name": "stdout",
     "output_type": "stream",
     "text": [
      "  key1 key2  lval\n",
      "0  foo  one     1\n",
      "1  foo  two     2\n",
      "2  bar  one     3 \n",
      "   key3 key4  lval\n",
      "0  foo  one     4\n",
      "1  foo  one     5\n",
      "2  bar  one     6\n",
      "3  bar  two     7\n"
     ]
    },
    {
     "data": {
      "text/html": [
       "<div>\n",
       "<style scoped>\n",
       "    .dataframe tbody tr th:only-of-type {\n",
       "        vertical-align: middle;\n",
       "    }\n",
       "\n",
       "    .dataframe tbody tr th {\n",
       "        vertical-align: top;\n",
       "    }\n",
       "\n",
       "    .dataframe thead th {\n",
       "        text-align: right;\n",
       "    }\n",
       "</style>\n",
       "<table border=\"1\" class=\"dataframe\">\n",
       "  <thead>\n",
       "    <tr style=\"text-align: right;\">\n",
       "      <th></th>\n",
       "      <th>key1</th>\n",
       "      <th>key2</th>\n",
       "      <th>lval_x</th>\n",
       "      <th>key3</th>\n",
       "      <th>key4</th>\n",
       "      <th>lval_y</th>\n",
       "    </tr>\n",
       "  </thead>\n",
       "  <tbody>\n",
       "    <tr>\n",
       "      <th>0</th>\n",
       "      <td>foo</td>\n",
       "      <td>one</td>\n",
       "      <td>1</td>\n",
       "      <td>foo</td>\n",
       "      <td>one</td>\n",
       "      <td>4</td>\n",
       "    </tr>\n",
       "    <tr>\n",
       "      <th>1</th>\n",
       "      <td>foo</td>\n",
       "      <td>one</td>\n",
       "      <td>1</td>\n",
       "      <td>foo</td>\n",
       "      <td>one</td>\n",
       "      <td>5</td>\n",
       "    </tr>\n",
       "    <tr>\n",
       "      <th>2</th>\n",
       "      <td>foo</td>\n",
       "      <td>two</td>\n",
       "      <td>2</td>\n",
       "      <td>foo</td>\n",
       "      <td>one</td>\n",
       "      <td>4</td>\n",
       "    </tr>\n",
       "    <tr>\n",
       "      <th>3</th>\n",
       "      <td>foo</td>\n",
       "      <td>two</td>\n",
       "      <td>2</td>\n",
       "      <td>foo</td>\n",
       "      <td>one</td>\n",
       "      <td>5</td>\n",
       "    </tr>\n",
       "    <tr>\n",
       "      <th>4</th>\n",
       "      <td>bar</td>\n",
       "      <td>one</td>\n",
       "      <td>3</td>\n",
       "      <td>bar</td>\n",
       "      <td>one</td>\n",
       "      <td>6</td>\n",
       "    </tr>\n",
       "    <tr>\n",
       "      <th>5</th>\n",
       "      <td>bar</td>\n",
       "      <td>one</td>\n",
       "      <td>3</td>\n",
       "      <td>bar</td>\n",
       "      <td>two</td>\n",
       "      <td>7</td>\n",
       "    </tr>\n",
       "  </tbody>\n",
       "</table>\n",
       "</div>"
      ],
      "text/plain": [
       "  key1 key2  lval_x key3 key4  lval_y\n",
       "0  foo  one       1  foo  one       4\n",
       "1  foo  one       1  foo  one       5\n",
       "2  foo  two       2  foo  one       4\n",
       "3  foo  two       2  foo  one       5\n",
       "4  bar  one       3  bar  one       6\n",
       "5  bar  one       3  bar  two       7"
      ]
     },
     "execution_count": 29,
     "metadata": {},
     "output_type": "execute_result"
    }
   ],
   "source": [
    "\n",
    "# 如果两个对象的列名不同，可以分别指定\n",
    "# 可以使用lft_on 和right_on 来指定数据集的外键\n",
    "# left_on ：指定左侧数据的外键\n",
    "# right_on：指定右边数据的外键\n",
    "\n",
    "df3=pd.DataFrame({'key1':['foo','foo','bar'],  \n",
    "      'key2':['one','two','one'],  \n",
    "    'lval':[1,2,3]})  \n",
    "df4=pd.DataFrame({'key3':['foo','foo','bar','bar'], \n",
    "  'key4':['one','one','one','two'],  \n",
    " 'lval':[4,5,6,7]}) \n",
    "print(df3,'\\n',df4)\n",
    "pd.merge(df3,df4,left_on='key1',right_on='key3')\n"
   ]
  },
  {
   "cell_type": "markdown",
   "metadata": {},
   "source": [
    "# 数据合并"
   ]
  },
  {
   "cell_type": "markdown",
   "metadata": {},
   "source": [
    "## numpy里面concatenate"
   ]
  },
  {
   "cell_type": "code",
   "execution_count": 31,
   "metadata": {},
   "outputs": [
    {
     "name": "stdout",
     "output_type": "stream",
     "text": [
      "[[7 5 2 3]\n",
      " [8 1 6 8]\n",
      " [8 7 8 4]]\n",
      "[[6 3 2 1]\n",
      " [3 5 2 9]\n",
      " [3 3 5 4]]\n",
      "[[7 5 2 3]\n",
      " [8 1 6 8]\n",
      " [8 7 8 4]\n",
      " [6 3 2 1]\n",
      " [3 5 2 9]\n",
      " [3 3 5 4]]\n",
      "[[7 5 2 3 6 3 2 1]\n",
      " [8 1 6 8 3 5 2 9]\n",
      " [8 7 8 4 3 3 5 4]]\n"
     ]
    }
   ],
   "source": [
    "\n",
    "# axis参数 1轴方向是行，两个数据的行部分首尾连接 \n",
    "# 范例\n",
    "arr1 = np.random.randint(0, 10, (3, 4))\n",
    "arr2 = np.random.randint(0, 10, (3, 4))\n",
    "print(arr1)\n",
    "print(arr2)\n",
    "print(np.concatenate([arr1, arr2])) #首尾连接 \n",
    "print(np.concatenate([arr1, arr2], axis=1)) #行首尾连接 （3*6）"
   ]
  },
  {
   "cell_type": "markdown",
   "metadata": {},
   "source": [
    "## pd.concat"
   ]
  },
  {
   "cell_type": "code",
   "execution_count": 32,
   "metadata": {},
   "outputs": [
    {
     "name": "stdout",
     "output_type": "stream",
     "text": [
      "0    6\n",
      "1    4\n",
      "2    8\n",
      "3    7\n",
      "4    8\n",
      "dtype: int32\n",
      "5    5\n",
      "6    7\n",
      "7    2\n",
      "8    9\n",
      "dtype: int32\n",
      "9     7\n",
      "10    1\n",
      "11    6\n",
      "dtype: int32\n",
      "0     6\n",
      "1     4\n",
      "2     8\n",
      "3     7\n",
      "4     8\n",
      "5     5\n",
      "6     7\n",
      "7     2\n",
      "8     9\n",
      "9     7\n",
      "10    1\n",
      "11    6\n",
      "dtype: int32\n"
     ]
    }
   ],
   "source": [
    "# axis参数：指定轴方向，默认值0，两个数据的行部分首尾连接 \n",
    "# join参数：指定合并方式，默认为outer\n",
    "# series行索引无重复\n",
    "# 范例\n",
    "ser_obj1 = pd.Series(np.random.randint(0, 10, 5), index=range(0,5))\n",
    "ser_obj2 = pd.Series(np.random.randint(0, 10, 4), index=range(5,9))\n",
    "ser_obj3 = pd.Series(np.random.randint(0, 10, 3), index=range(9,12))\n",
    "print(ser_obj1)\n",
    "print(ser_obj2)\n",
    "print(ser_obj3)\n",
    "#默认按列进行连接，同时是外连接\n",
    "print(pd.concat([ser_obj1, ser_obj2, ser_obj3]))"
   ]
  },
  {
   "cell_type": "code",
   "execution_count": 35,
   "metadata": {},
   "outputs": [
    {
     "name": "stdout",
     "output_type": "stream",
     "text": [
      "0    8\n",
      "1    9\n",
      "2    2\n",
      "3    2\n",
      "4    5\n",
      "dtype: int32\n",
      "0    1\n",
      "1    3\n",
      "2    4\n",
      "3    5\n",
      "dtype: int32\n",
      "0    5\n",
      "1    7\n",
      "2    4\n",
      "dtype: int32\n",
      "   0    1    2\n",
      "0  8  1.0  5.0\n",
      "1  9  3.0  7.0\n",
      "2  2  4.0  4.0\n",
      "3  2  5.0  NaN\n",
      "4  5  NaN  NaN\n"
     ]
    }
   ],
   "source": [
    "ser_obj1 = pd.Series(np.random.randint(0, 10, 5), index=range(0,5))\n",
    "ser_obj2 = pd.Series(np.random.randint(0, 10, 4), index=range(0,4))\n",
    "ser_obj3 = pd.Series(np.random.randint(0, 10, 3), index=range(0,3))\n",
    "print(ser_obj1)\n",
    "print(ser_obj2)\n",
    "print(ser_obj3)\n",
    "print(pd.concat([ser_obj1, ser_obj2, ser_obj3], axis=1))"
   ]
  },
  {
   "cell_type": "code",
   "execution_count": 37,
   "metadata": {},
   "outputs": [
    {
     "name": "stdout",
     "output_type": "stream",
     "text": [
      "0    8\n",
      "1    9\n",
      "2    2\n",
      "3    2\n",
      "4    5\n",
      "dtype: int32\n",
      "0    1\n",
      "1    3\n",
      "2    4\n",
      "3    5\n",
      "dtype: int32\n",
      "0    5\n",
      "1    7\n",
      "2    4\n",
      "dtype: int32\n",
      "   0  1  2\n",
      "0  8  1  5\n",
      "1  9  3  7\n",
      "2  2  4  4\n"
     ]
    }
   ],
   "source": [
    "print(ser_obj1)\n",
    "print(ser_obj2)\n",
    "print(ser_obj3)\n",
    "print(pd.concat([ser_obj1, ser_obj2, ser_obj3], axis=1, join=\"inner\"))\n"
   ]
  },
  {
   "cell_type": "code",
   "execution_count": 38,
   "metadata": {},
   "outputs": [
    {
     "name": "stdout",
     "output_type": "stream",
     "text": [
      "0    8\n",
      "1    9\n",
      "2    2\n",
      "3    2\n",
      "4    5\n",
      "dtype: int32\n",
      "0    1\n",
      "1    3\n",
      "2    4\n",
      "3    5\n",
      "dtype: int32\n",
      "0    5\n",
      "1    7\n",
      "2    4\n",
      "dtype: int32\n",
      "0    8\n",
      "1    9\n",
      "2    2\n",
      "3    2\n",
      "4    5\n",
      "0    1\n",
      "1    3\n",
      "2    4\n",
      "3    5\n",
      "0    5\n",
      "1    7\n",
      "2    4\n",
      "dtype: int32\n"
     ]
    }
   ],
   "source": [
    "print(ser_obj1)\n",
    "print(ser_obj2)\n",
    "print(ser_obj3)\n",
    "print(pd.concat([ser_obj1, ser_obj2, ser_obj3], join=\"inner\"))"
   ]
  },
  {
   "cell_type": "code",
   "execution_count": 39,
   "metadata": {},
   "outputs": [
    {
     "name": "stdout",
     "output_type": "stream",
     "text": [
      "0    8\n",
      "1    2\n",
      "2    8\n",
      "3    9\n",
      "4    9\n",
      "0    3\n",
      "1    1\n",
      "2    7\n",
      "3    7\n",
      "0    6\n",
      "1    9\n",
      "2    1\n",
      "dtype: int32\n"
     ]
    }
   ],
   "source": [
    "ser_obj1 = pd.Series(np.random.randint(0, 10, 5), index=range(5))\n",
    "ser_obj2 = pd.Series(np.random.randint(0, 10, 4), index=range(4))\n",
    "ser_obj3 = pd.Series(np.random.randint(0, 10, 3), index=range(3))\n",
    "#默认按列进行连接，同时是外连接\n",
    "print(pd.concat([ser_obj1, ser_obj2, ser_obj3]))"
   ]
  },
  {
   "cell_type": "code",
   "execution_count": 40,
   "metadata": {},
   "outputs": [
    {
     "name": "stdout",
     "output_type": "stream",
     "text": [
      "   A  B\n",
      "a  5  4\n",
      "b  4  5\n",
      "c  0  6\n",
      "   C  D\n",
      "a  6  5\n",
      "b  4  9\n"
     ]
    }
   ],
   "source": [
    "df_obj1 = pd.DataFrame(np.random.randint(0, 10, (3, 2)), index=['a', 'b', 'c'], columns=['A', 'B'])\n",
    "df_obj2 = pd.DataFrame(np.random.randint(0, 10, (2, 2)), index=['a', 'b'], columns=['C', 'D'])\n",
    "print(df_obj1)\n",
    "print(df_obj2)"
   ]
  },
  {
   "cell_type": "code",
   "execution_count": 41,
   "metadata": {},
   "outputs": [
    {
     "name": "stdout",
     "output_type": "stream",
     "text": [
      "     A    B    C    D\n",
      "a  5.0  4.0  NaN  NaN\n",
      "b  4.0  5.0  NaN  NaN\n",
      "c  0.0  6.0  NaN  NaN\n",
      "a  NaN  NaN  6.0  5.0\n",
      "b  NaN  NaN  4.0  9.0\n",
      "   A  B    C    D\n",
      "a  5  4  6.0  5.0\n",
      "b  4  5  4.0  9.0\n",
      "c  0  6  NaN  NaN\n",
      "   A  B  C  D\n",
      "a  5  4  6  5\n",
      "b  4  5  4  9\n"
     ]
    }
   ],
   "source": [
    "#默认是按行连接\n",
    "print(pd.concat([df_obj1, df_obj2]))\n",
    "#指定轴方向，\n",
    "print(pd.concat([df_obj1, df_obj2], axis=1))\n",
    "#指定轴方向，按内连接（NaN所在的行/列将被去除）\n",
    "print(pd.concat([df_obj1, df_obj2], axis=1, join='inner'))"
   ]
  },
  {
   "cell_type": "code",
   "execution_count": null,
   "metadata": {},
   "outputs": [],
   "source": []
  }
 ],
 "metadata": {
  "kernelspec": {
   "display_name": "Python 3",
   "language": "python",
   "name": "python3"
  },
  "language_info": {
   "codemirror_mode": {
    "name": "ipython",
    "version": 3
   },
   "file_extension": ".py",
   "mimetype": "text/x-python",
   "name": "python",
   "nbconvert_exporter": "python",
   "pygments_lexer": "ipython3",
   "version": "3.6.8"
  }
 },
 "nbformat": 4,
 "nbformat_minor": 4
}
