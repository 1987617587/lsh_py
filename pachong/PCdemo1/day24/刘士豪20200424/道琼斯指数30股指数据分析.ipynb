{
 "cells": [
  {
   "cell_type": "code",
   "execution_count": 1,
   "metadata": {},
   "outputs": [],
   "source": [
    "import pandas as pd\n",
    "import numpy as np\n"
   ]
  },
  {
   "cell_type": "code",
   "execution_count": 2,
   "metadata": {},
   "outputs": [
    {
     "name": "stdout",
     "output_type": "stream",
     "text": [
      "    code                     name  tradePrice\n",
      "0    AXP         American Express      134.46\n",
      "1   AAPL                    Apple      326.12\n",
      "2     BA                   Boeing      345.02\n",
      "3    CAT              Caterpillar      140.47\n",
      "4    CVX                  Chevron      111.91\n",
      "5   CSCO                    Cisco       47.59\n",
      "6     KO                Coca-Cola       59.80\n",
      "7    DIS                   Disney      141.75\n",
      "8    DOW             Dow Chemical       48.30\n",
      "9    XOM              Exxon Mobil       60.79\n",
      "10    GS            Goldman Sachs      238.62\n",
      "11    HD               Home Depot      242.91\n",
      "12   IBM                      IBM      154.76\n",
      "13  INTC                    Intel       67.59\n",
      "14   JNJ        Johnson & Johnson      150.46\n",
      "15   JPM           JPMorgan Chase      138.08\n",
      "16   MCD               McDonald's      218.11\n",
      "17   MRK                    Merck       82.35\n",
      "18  MSFT                Microsoft      184.40\n",
      "19   NKE                     Nike      103.60\n",
      "20   PFE                   Pfizer       37.15\n",
      "21    PG         Procter & Gamble      125.19\n",
      "22   TRV  Travelers Companies Inc      136.95\n",
      "23   UTX      United Technologies      153.80\n",
      "24   UNH             UnitedHealth      303.98\n",
      "25    VZ                  Verizon       58.60\n",
      "26     V                     Visa      208.11\n",
      "27   WMT                 Wal-Mart      117.44\n",
      "28   WBA                 Walgreen       53.58\n"
     ]
    }
   ],
   "source": [
    "df = pd.read_csv('money.csv')\n",
    "print(df)"
   ]
  },
  {
   "cell_type": "markdown",
   "metadata": {},
   "source": [
    "# 1、获取股票代码"
   ]
  },
  {
   "cell_type": "code",
   "execution_count": 5,
   "metadata": {},
   "outputs": [
    {
     "name": "stdout",
     "output_type": "stream",
     "text": [
      "0      AXP\n",
      "1     AAPL\n",
      "2       BA\n",
      "3      CAT\n",
      "4      CVX\n",
      "5     CSCO\n",
      "6       KO\n",
      "7      DIS\n",
      "8      DOW\n",
      "9      XOM\n",
      "10      GS\n",
      "11      HD\n",
      "12     IBM\n",
      "13    INTC\n",
      "14     JNJ\n",
      "15     JPM\n",
      "16     MCD\n",
      "17     MRK\n",
      "18    MSFT\n",
      "19     NKE\n",
      "20     PFE\n",
      "21      PG\n",
      "22     TRV\n",
      "23     UTX\n",
      "24     UNH\n",
      "25      VZ\n",
      "26       V\n",
      "27     WMT\n",
      "28     WBA\n",
      "Name: code, dtype: object\n"
     ]
    }
   ],
   "source": [
    "print(df.iloc[:,0])"
   ]
  },
  {
   "cell_type": "code",
   "execution_count": 4,
   "metadata": {},
   "outputs": [
    {
     "name": "stdout",
     "output_type": "stream",
     "text": [
      "0      AXP\n",
      "1     AAPL\n",
      "2       BA\n",
      "3      CAT\n",
      "4      CVX\n",
      "5     CSCO\n",
      "6       KO\n",
      "7      DIS\n",
      "8      DOW\n",
      "9      XOM\n",
      "10      GS\n",
      "11      HD\n",
      "12     IBM\n",
      "13    INTC\n",
      "14     JNJ\n",
      "15     JPM\n",
      "16     MCD\n",
      "17     MRK\n",
      "18    MSFT\n",
      "19     NKE\n",
      "20     PFE\n",
      "21      PG\n",
      "22     TRV\n",
      "23     UTX\n",
      "24     UNH\n",
      "25      VZ\n",
      "26       V\n",
      "27     WMT\n",
      "28     WBA\n",
      "Name: code, dtype: object\n"
     ]
    }
   ],
   "source": [
    "print(df.loc[:,'code'])"
   ]
  },
  {
   "cell_type": "markdown",
   "metadata": {},
   "source": [
    "\n",
    "# 2、获取前五行的股票数据"
   ]
  },
  {
   "cell_type": "code",
   "execution_count": 8,
   "metadata": {},
   "outputs": [
    {
     "name": "stdout",
     "output_type": "stream",
     "text": [
      "   code              name  tradePrice\n",
      "0   AXP  American Express      134.46\n",
      "1  AAPL             Apple      326.12\n",
      "2    BA            Boeing      345.02\n",
      "3   CAT       Caterpillar      140.47\n",
      "4   CVX           Chevron      111.91\n"
     ]
    }
   ],
   "source": [
    "print(df.loc[:4,:])"
   ]
  },
  {
   "cell_type": "code",
   "execution_count": 7,
   "metadata": {},
   "outputs": [
    {
     "name": "stdout",
     "output_type": "stream",
     "text": [
      "   code              name  tradePrice\n",
      "0   AXP  American Express      134.46\n",
      "1  AAPL             Apple      326.12\n",
      "2    BA            Boeing      345.02\n",
      "3   CAT       Caterpillar      140.47\n",
      "4   CVX           Chevron      111.91\n"
     ]
    }
   ],
   "source": [
    "print(df.iloc[:5,:])"
   ]
  },
  {
   "cell_type": "markdown",
   "metadata": {},
   "source": [
    "# 3、返回第一只股票的股价\n"
   ]
  },
  {
   "cell_type": "code",
   "execution_count": 10,
   "metadata": {},
   "outputs": [
    {
     "name": "stdout",
     "output_type": "stream",
     "text": [
      "134.46\n",
      "134.46\n",
      "134.46\n"
     ]
    }
   ],
   "source": [
    "print(df['tradePrice'][0])\n",
    "print(df.loc[0]['tradePrice'])\n",
    "print(df.iloc[0,2])"
   ]
  },
  {
   "cell_type": "markdown",
   "metadata": {},
   "source": [
    "# 4、计算平均的股价（选）\n"
   ]
  },
  {
   "cell_type": "code",
   "execution_count": 11,
   "metadata": {},
   "outputs": [
    {
     "name": "stdout",
     "output_type": "stream",
     "text": [
      "144.54793103448276\n"
     ]
    }
   ],
   "source": [
    "print(df['tradePrice'].mean())"
   ]
  },
  {
   "cell_type": "markdown",
   "metadata": {},
   "source": [
    "# 5、计算股价大于180的公司的名称（选）\n"
   ]
  },
  {
   "cell_type": "code",
   "execution_count": 16,
   "metadata": {},
   "outputs": [
    {
     "name": "stdout",
     "output_type": "stream",
     "text": [
      "1             Apple\n",
      "2            Boeing\n",
      "10    Goldman Sachs\n",
      "11       Home Depot\n",
      "16       McDonald's\n",
      "18        Microsoft\n",
      "24     UnitedHealth\n",
      "26             Visa\n",
      "Name: name, dtype: object\n"
     ]
    }
   ],
   "source": [
    "\n",
    "print(df[df['tradePrice'] > 180]['name'])"
   ]
  },
  {
   "cell_type": "code",
   "execution_count": null,
   "metadata": {},
   "outputs": [],
   "source": [
    "# 6、找出股价前三名的公司，降序排序（选）"
   ]
  },
  {
   "cell_type": "code",
   "execution_count": 22,
   "metadata": {},
   "outputs": [
    {
     "name": "stdout",
     "output_type": "stream",
     "text": [
      "    code          name  tradePrice\n",
      "2     BA        Boeing      345.02\n",
      "1   AAPL         Apple      326.12\n",
      "24   UNH  UnitedHealth      303.98\n",
      "2           Boeing\n",
      "1            Apple\n",
      "24    UnitedHealth\n",
      "Name: name, dtype: object\n"
     ]
    }
   ],
   "source": [
    "df_sort = df.sort_values(by='tradePrice',ascending = False)\n",
    "print(df_sort[:3])\n",
    "print(df_sort.iloc[:3,1])"
   ]
  },
  {
   "cell_type": "code",
   "execution_count": null,
   "metadata": {},
   "outputs": [],
   "source": []
  },
  {
   "cell_type": "code",
   "execution_count": null,
   "metadata": {},
   "outputs": [],
   "source": []
  },
  {
   "cell_type": "code",
   "execution_count": null,
   "metadata": {},
   "outputs": [],
   "source": []
  }
 ],
 "metadata": {
  "kernelspec": {
   "display_name": "Python 3",
   "language": "python",
   "name": "python3"
  },
  "language_info": {
   "codemirror_mode": {
    "name": "ipython",
    "version": 3
   },
   "file_extension": ".py",
   "mimetype": "text/x-python",
   "name": "python",
   "nbconvert_exporter": "python",
   "pygments_lexer": "ipython3",
   "version": "3.6.8"
  }
 },
 "nbformat": 4,
 "nbformat_minor": 4
}
