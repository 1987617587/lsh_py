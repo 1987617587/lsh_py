{
 "cells": [
  {
   "cell_type": "code",
   "execution_count": 5,
   "metadata": {},
   "outputs": [],
   "source": [
    "# 需求：模拟生成一家商店全年营收额，生成日期和销量两列数据，保存到csv文件\n",
    "#     用pandas读取csv数据，常见DataFrame对象\n",
    "#     对数据进行处理\n",
    "#     生成折线图，反映商店全年营收的变化情况，把图片保存 first.png\n",
    "#     按月份就行统计，用柱形图显示每月的营收情况，把图片保存second.png\n",
    "#     按月份进行统计，找出营收额最高的月份，把数据保存txt文件\n",
    "#     按季度进行统计，统计营收情况，饼形图显示，把图片保存为three.png"
   ]
  },
  {
   "cell_type": "code",
   "execution_count": 6,
   "metadata": {},
   "outputs": [],
   "source": [
    "import csv\n",
    "import codecs\n",
    "import random\n",
    "import datetime"
   ]
  },
  {
   "cell_type": "code",
   "execution_count": 7,
   "metadata": {},
   "outputs": [],
   "source": [
    "filename = 'data/shop_data.csv'\n",
    "with codecs.open(filename,'w','utf-8') as file:\n",
    "    wr = csv.writer(file)\n",
    "    wr.writerow(['日期','销量'])\n",
    "    # 模拟生成起始日期\n",
    "    start_date = datetime.date(2019,1,1)\n",
    "    # 模拟生成365个销量的数据\n",
    "    for i in range(365):\n",
    "        if random.random()>0.5:\n",
    "            amount = 400 +random.randrange(20)\n",
    "        else:\n",
    "            amount = 400 -random.randrange(20)\n",
    "        wr.writerow([str(start_date),amount])\n",
    "        # 生成下一个日期\n",
    "        start_date = start_date + datetime.timedelta(days=1)"
   ]
  },
  {
   "cell_type": "markdown",
   "metadata": {},
   "source": [
    "# 读取数据"
   ]
  },
  {
   "cell_type": "code",
   "execution_count": 8,
   "metadata": {},
   "outputs": [],
   "source": [
    "import pandas as pd\n",
    "import numpy as np\n",
    "import matplotlib.pyplot as plt"
   ]
  },
  {
   "cell_type": "code",
   "execution_count": 9,
   "metadata": {},
   "outputs": [
    {
     "name": "stdout",
     "output_type": "stream",
     "text": [
      "             日期   销量\n",
      "0    2019-01-01  381\n",
      "1    2019-01-02  405\n",
      "2    2019-01-03  419\n",
      "3    2019-01-04  412\n",
      "4    2019-01-05  390\n",
      "..          ...  ...\n",
      "360  2019-12-27  400\n",
      "361  2019-12-28  407\n",
      "362  2019-12-29  408\n",
      "363  2019-12-30  382\n",
      "364  2019-12-31  411\n",
      "\n",
      "[365 rows x 2 columns]\n"
     ]
    }
   ],
   "source": [
    "df_obj = pd.read_csv('data/shop_data.csv')\n",
    "print(df_obj)"
   ]
  },
  {
   "cell_type": "code",
   "execution_count": 10,
   "metadata": {},
   "outputs": [
    {
     "name": "stdout",
     "output_type": "stream",
     "text": [
      "['2019-01-01', '2019-01-02', '2019-01-03', '2019-01-04', '2019-01-05', '2019-01-06', '2019-01-07', '2019-01-08', '2019-01-09', '2019-01-10', '2019-01-11', '2019-01-12', '2019-01-13', '2019-01-14', '2019-01-15', '2019-01-16', '2019-01-17', '2019-01-18', '2019-01-19', '2019-01-20', '2019-01-21', '2019-01-22', '2019-01-23', '2019-01-24', '2019-01-25', '2019-01-26', '2019-01-27', '2019-01-28', '2019-01-29', '2019-01-30', '2019-01-31', '2019-02-01', '2019-02-02', '2019-02-03', '2019-02-04', '2019-02-05', '2019-02-06', '2019-02-07', '2019-02-08', '2019-02-09', '2019-02-10', '2019-02-11', '2019-02-12', '2019-02-13', '2019-02-14', '2019-02-15', '2019-02-16', '2019-02-17', '2019-02-18', '2019-02-19', '2019-02-20', '2019-02-21', '2019-02-22', '2019-02-23', '2019-02-24', '2019-02-25', '2019-02-26', '2019-02-27', '2019-02-28', '2019-03-01', '2019-03-02', '2019-03-03', '2019-03-04', '2019-03-05', '2019-03-06', '2019-03-07', '2019-03-08', '2019-03-09', '2019-03-10', '2019-03-11', '2019-03-12', '2019-03-13', '2019-03-14', '2019-03-15', '2019-03-16', '2019-03-17', '2019-03-18', '2019-03-19', '2019-03-20', '2019-03-21', '2019-03-22', '2019-03-23', '2019-03-24', '2019-03-25', '2019-03-26', '2019-03-27', '2019-03-28', '2019-03-29', '2019-03-30', '2019-03-31', '2019-04-01', '2019-04-02', '2019-04-03', '2019-04-04', '2019-04-05', '2019-04-06', '2019-04-07', '2019-04-08', '2019-04-09', '2019-04-10', '2019-04-11', '2019-04-12', '2019-04-13', '2019-04-14', '2019-04-15', '2019-04-16', '2019-04-17', '2019-04-18', '2019-04-19', '2019-04-20', '2019-04-21', '2019-04-22', '2019-04-23', '2019-04-24', '2019-04-25', '2019-04-26', '2019-04-27', '2019-04-28', '2019-04-29', '2019-04-30', '2019-05-01', '2019-05-02', '2019-05-03', '2019-05-04', '2019-05-05', '2019-05-06', '2019-05-07', '2019-05-08', '2019-05-09', '2019-05-10', '2019-05-11', '2019-05-12', '2019-05-13', '2019-05-14', '2019-05-15', '2019-05-16', '2019-05-17', '2019-05-18', '2019-05-19', '2019-05-20', '2019-05-21', '2019-05-22', '2019-05-23', '2019-05-24', '2019-05-25', '2019-05-26', '2019-05-27', '2019-05-28', '2019-05-29', '2019-05-30', '2019-05-31', '2019-06-01', '2019-06-02', '2019-06-03', '2019-06-04', '2019-06-05', '2019-06-06', '2019-06-07', '2019-06-08', '2019-06-09', '2019-06-10', '2019-06-11', '2019-06-12', '2019-06-13', '2019-06-14', '2019-06-15', '2019-06-16', '2019-06-17', '2019-06-18', '2019-06-19', '2019-06-20', '2019-06-21', '2019-06-22', '2019-06-23', '2019-06-24', '2019-06-25', '2019-06-26', '2019-06-27', '2019-06-28', '2019-06-29', '2019-06-30', '2019-07-01', '2019-07-02', '2019-07-03', '2019-07-04', '2019-07-05', '2019-07-06', '2019-07-07', '2019-07-08', '2019-07-09', '2019-07-10', '2019-07-11', '2019-07-12', '2019-07-13', '2019-07-14', '2019-07-15', '2019-07-16', '2019-07-17', '2019-07-18', '2019-07-19', '2019-07-20', '2019-07-21', '2019-07-22', '2019-07-23', '2019-07-24', '2019-07-25', '2019-07-26', '2019-07-27', '2019-07-28', '2019-07-29', '2019-07-30', '2019-07-31', '2019-08-01', '2019-08-02', '2019-08-03', '2019-08-04', '2019-08-05', '2019-08-06', '2019-08-07', '2019-08-08', '2019-08-09', '2019-08-10', '2019-08-11', '2019-08-12', '2019-08-13', '2019-08-14', '2019-08-15', '2019-08-16', '2019-08-17', '2019-08-18', '2019-08-19', '2019-08-20', '2019-08-21', '2019-08-22', '2019-08-23', '2019-08-24', '2019-08-25', '2019-08-26', '2019-08-27', '2019-08-28', '2019-08-29', '2019-08-30', '2019-08-31', '2019-09-01', '2019-09-02', '2019-09-03', '2019-09-04', '2019-09-05', '2019-09-06', '2019-09-07', '2019-09-08', '2019-09-09', '2019-09-10', '2019-09-11', '2019-09-12', '2019-09-13', '2019-09-14', '2019-09-15', '2019-09-16', '2019-09-17', '2019-09-18', '2019-09-19', '2019-09-20', '2019-09-21', '2019-09-22', '2019-09-23', '2019-09-24', '2019-09-25', '2019-09-26', '2019-09-27', '2019-09-28', '2019-09-29', '2019-09-30', '2019-10-01', '2019-10-02', '2019-10-03', '2019-10-04', '2019-10-05', '2019-10-06', '2019-10-07', '2019-10-08', '2019-10-09', '2019-10-10', '2019-10-11', '2019-10-12', '2019-10-13', '2019-10-14', '2019-10-15', '2019-10-16', '2019-10-17', '2019-10-18', '2019-10-19', '2019-10-20', '2019-10-21', '2019-10-22', '2019-10-23', '2019-10-24', '2019-10-25', '2019-10-26', '2019-10-27', '2019-10-28', '2019-10-29', '2019-10-30', '2019-10-31', '2019-11-01', '2019-11-02', '2019-11-03', '2019-11-04', '2019-11-05', '2019-11-06', '2019-11-07', '2019-11-08', '2019-11-09', '2019-11-10', '2019-11-11', '2019-11-12', '2019-11-13', '2019-11-14', '2019-11-15', '2019-11-16', '2019-11-17', '2019-11-18', '2019-11-19', '2019-11-20', '2019-11-21', '2019-11-22', '2019-11-23', '2019-11-24', '2019-11-25', '2019-11-26', '2019-11-27', '2019-11-28', '2019-11-29', '2019-11-30', '2019-12-01', '2019-12-02', '2019-12-03', '2019-12-04', '2019-12-05', '2019-12-06', '2019-12-07', '2019-12-08', '2019-12-09', '2019-12-10', '2019-12-11', '2019-12-12', '2019-12-13', '2019-12-14', '2019-12-15', '2019-12-16', '2019-12-17', '2019-12-18', '2019-12-19', '2019-12-20', '2019-12-21', '2019-12-22', '2019-12-23', '2019-12-24', '2019-12-25', '2019-12-26', '2019-12-27', '2019-12-28', '2019-12-29', '2019-12-30', '2019-12-31']\n",
      "['2019-01-01', '2019-02-06', '2019-03-14', '2019-04-19', '2019-05-25', '2019-06-30', '2019-08-05', '2019-09-10', '2019-10-16', '2019-11-21', '2019-12-27']\n"
     ]
    }
   ],
   "source": [
    "date_ls =  list(df_obj['日期'])\n",
    "print(date_ls)\n",
    "def func(n):\n",
    "    return date_ls.index(n)%36 == 0\n",
    "f = filter(func,date_ls)\n",
    "date_ls= list(f)\n",
    "print(date_ls)"
   ]
  },
  {
   "cell_type": "code",
   "execution_count": 37,
   "metadata": {},
   "outputs": [
    {
     "data": {
      "image/png": "[encoded data removed]",
      "text/plain": [
       "<Figure size 432x288 with 1 Axes>"
      ]
     },
     "metadata": {
      "needs_background": "light"
     },
     "output_type": "display_data"
    }
   ],
   "source": [
    "fig,ax = plt.subplots(1)\n",
    "ax.set_title('商店全年营收额')\n",
    "ax.set_xlabel('日期')\n",
    "ax.set_ylabel('销量')\n",
    "\n",
    "\n",
    "ax.plot(df_obj['销量'])\n",
    "# 设置刻度显示的范围\n",
    "ax.set_xlim([0,df_obj.shape[0]])\n",
    "ax.set_xticks(range(0,df_obj.shape[0],36))\n",
    "ax.set_ylim([0,df_obj['销量'].max()+100])\n",
    "\n",
    "# 取消一些天，不全显示\n",
    "# ax.set_xticklabels(df_obj['日期'],rotation=45)\n",
    "ax.set_xticklabels(date_ls,rotation=45)\n",
    "\n",
    "\n",
    "plt.rcParams['font.sans-serif'] = ['SimHei']\n",
    "plt.savefig('first.jpg')\n",
    "plt.show()"
   ]
  },
  {
   "cell_type": "markdown",
   "metadata": {},
   "source": [
    "##    按月份就行统计，用柱形图显示每月的营收情况，把图片保存second.png"
   ]
  },
  {
   "cell_type": "code",
   "execution_count": 12,
   "metadata": {
    "collapsed": true
   },
   "outputs": [
    {
     "name": "stdout",
     "output_type": "stream",
     "text": [
      "             日期   销量    month\n",
      "0    2019-01-01  381  2019-01\n",
      "1    2019-01-02  405  2019-01\n",
      "2    2019-01-03  419  2019-01\n",
      "3    2019-01-04  412  2019-01\n",
      "4    2019-01-05  390  2019-01\n",
      "..          ...  ...      ...\n",
      "360  2019-12-27  400  2019-12\n",
      "361  2019-12-28  407  2019-12\n",
      "362  2019-12-29  408  2019-12\n",
      "363  2019-12-30  382  2019-12\n",
      "364  2019-12-31  411  2019-12\n",
      "\n",
      "[365 rows x 3 columns]\n"
     ]
    },
    {
     "name": "stderr",
     "output_type": "stream",
     "text": [
      "f:\\linux\\python\\myvenv\\env1\\lib\\site-packages\\ipykernel_launcher.py:3: SettingWithCopyWarning: \n",
      "A value is trying to be set on a copy of a slice from a DataFrame.\n",
      "Try using .loc[row_indexer,col_indexer] = value instead\n",
      "\n",
      "See the caveats in the documentation: https://pandas.pydata.org/pandas-docs/stable/user_guide/indexing.html#returning-a-view-versus-a-copy\n",
      "  This is separate from the ipykernel package so we can avoid doing imports until\n"
     ]
    }
   ],
   "source": [
    "df_obj1 =df_obj[:]\n",
    "# print(df_obj1)\n",
    "df_obj1['month'] = df_obj1['日期'].map(lambda x:x[0:x.rindex('-')])\n",
    "print(df_obj1)\n",
    "\n",
    "\n"
   ]
  },
  {
   "cell_type": "code",
   "execution_count": 13,
   "metadata": {},
   "outputs": [
    {
     "name": "stdout",
     "output_type": "stream",
     "text": [
      "            销量\n",
      "month         \n",
      "2019-01  12382\n",
      "2019-02  11158\n",
      "2019-03  12381\n",
      "2019-04  11948\n",
      "2019-05  12393\n",
      "2019-06  12078\n",
      "2019-07  12257\n",
      "2019-08  12458\n",
      "2019-09  11891\n",
      "2019-10  12394\n",
      "2019-11  12101\n",
      "2019-12  12376\n"
     ]
    }
   ],
   "source": [
    "df_obj1 = df_obj1.groupby('month').sum()\n",
    "print(df_obj1)"
   ]
  },
  {
   "cell_type": "code",
   "execution_count": 20,
   "metadata": {},
   "outputs": [
    {
     "data": {
      "image/png": "[encoded data removed]",
      "text/plain": [
       "<Figure size 432x288 with 1 Axes>"
      ]
     },
     "metadata": {
      "needs_background": "light"
     },
     "output_type": "display_data"
    }
   ],
   "source": [
    "\n",
    "x = np.array(range(12))\n",
    "width = 0.75\n",
    "fig,ax =  plt.subplots(1)\n",
    "plt.bar(x,df_obj1['销量'],width,color='b',alpha=0.5)\n",
    "ax.set_title('按月销量')\n",
    "ax.set_xlabel('月份')\n",
    "ax.set_ylabel('销量')\n",
    "ax.set_xticks(x)\n",
    "ax.set_xticklabels(df_obj1.index,rotation=45)\n",
    "plt.savefig('second.jpg')\n",
    "plt.show()"
   ]
  },
  {
   "cell_type": "markdown",
   "metadata": {},
   "source": [
    "#     按月份进行统计，找出营收额最高的月份，把数据保存txt文件\n"
   ]
  },
  {
   "cell_type": "code",
   "execution_count": 27,
   "metadata": {},
   "outputs": [
    {
     "name": "stdout",
     "output_type": "stream",
     "text": [
      "12458\n",
      "            销量\n",
      "month         \n",
      "2019-08  12458\n",
      "<class 'pandas.core.frame.DataFrame'>\n"
     ]
    }
   ],
   "source": [
    "max_amount = df_obj1['销量'].max()\n",
    "print(max_amount)\n",
    "df_obj2 = df_obj1[df_obj1['销量']==max_amount]\n",
    "print(df_obj2)\n",
    "print(type(df_obj2))\n",
    "with open('data/max_month.txt','w',encoding='utf-8') as file:\n",
    "    file.write(str(df_obj2.iloc[:,:]))"
   ]
  },
  {
   "cell_type": "markdown",
   "metadata": {},
   "source": [
    "#     按季度进行统计，统计营收情况，饼形图显示，把图片保存为three.png"
   ]
  },
  {
   "cell_type": "code",
   "execution_count": 29,
   "metadata": {},
   "outputs": [
    {
     "name": "stdout",
     "output_type": "stream",
     "text": [
      "            销量\n",
      "month         \n",
      "2019-01  12382\n",
      "2019-02  11158\n",
      "2019-03  12381\n",
      "2019-04  11948\n",
      "2019-05  12393\n",
      "2019-06  12078\n",
      "2019-07  12257\n",
      "2019-08  12458\n",
      "2019-09  11891\n",
      "2019-10  12394\n",
      "2019-11  12101\n",
      "2019-12  12376\n",
      "[35921, 36419, 36606, 36871]\n"
     ]
    }
   ],
   "source": [
    "print(df_obj1)\n",
    "# df_obj1['季度'] = ['']\n",
    "\n",
    "\n",
    "q1 = df_obj1.iloc[:3,0].sum()\n",
    "q2 = df_obj1.iloc[3:6,0].sum()\n",
    "q3 = df_obj1.iloc[6:9,0].sum()\n",
    "q4 = df_obj1.iloc[9:12,0].sum()\n",
    "sizes = [q1,q2,q3,q4] \n",
    "print(sizes)"
   ]
  },
  {
   "cell_type": "code",
   "execution_count": 32,
   "metadata": {},
   "outputs": [
    {
     "data": {
      "image/png": "[encoded data removed]",
      "text/plain": [
       "<Figure size 432x288 with 1 Axes>"
      ]
     },
     "metadata": {},
     "output_type": "display_data"
    }
   ],
   "source": [
    "fig,ax = plt.subplots(1)\n",
    "ax.set_title('季度销量情况统计')\n",
    "ax.pie(sizes,labels=['第一季度','第二季度','第三季度','第四季度'])\n",
    "plt.show()"
   ]
  },
  {
   "cell_type": "code",
   "execution_count": null,
   "metadata": {},
   "outputs": [],
   "source": []
  },
  {
   "cell_type": "code",
   "execution_count": 30,
   "metadata": {},
   "outputs": [
    {
     "name": "stdout",
     "output_type": "stream",
     "text": [
      "            销量\n",
      "month         \n",
      "2019-01  12382\n",
      "2019-02  11158\n",
      "2019-03  12381\n",
      "2019-04  11948\n",
      "2019-05  12393\n",
      "2019-06  12078\n",
      "2019-07  12257\n",
      "2019-08  12458\n",
      "2019-09  11891\n",
      "2019-10  12394\n",
      "2019-11  12101\n",
      "2019-12  12376\n",
      "            销量 季度\n",
      "month            \n",
      "2019-01  12382  4\n",
      "2019-02  11158  1\n",
      "2019-03  12381  1\n",
      "2019-04  11948  1\n",
      "2019-05  12393  2\n",
      "2019-06  12078  2\n",
      "2019-07  12257  2\n",
      "2019-08  12458  3\n",
      "2019-09  11891  3\n",
      "2019-10  12394  3\n",
      "2019-11  12101  4\n",
      "2019-12  12376  4\n"
     ]
    }
   ],
   "source": [
    "print(df_obj1)\n",
    "df_obj1['季度'] = ['4','1','1','1','2','2','2','3','3','3','4','4']\n",
    "print(df_obj1)\n"
   ]
  },
  {
   "cell_type": "code",
   "execution_count": null,
   "metadata": {},
   "outputs": [],
   "source": []
  }
 ],
 "metadata": {
  "kernelspec": {
   "display_name": "Python 3",
   "language": "python",
   "name": "python3"
  },
  "language_info": {
   "codemirror_mode": {
    "name": "ipython",
    "version": 3
   },
   "file_extension": ".py",
   "mimetype": "text/x-python",
   "name": "python",
   "nbconvert_exporter": "python",
   "pygments_lexer": "ipython3",
   "version": "3.6.8"
  }
 },
 "nbformat": 4,
 "nbformat_minor": 4
}
