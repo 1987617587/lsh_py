{
 "cells": [
  {
   "cell_type": "code",
   "execution_count": 1,
   "metadata": {},
   "outputs": [],
   "source": [
    "import numpy as np"
   ]
  },
  {
   "cell_type": "markdown",
   "metadata": {},
   "source": [
    "# csv数据的加载"
   ]
  },
  {
   "cell_type": "code",
   "execution_count": 10,
   "metadata": {},
   "outputs": [],
   "source": [
    "filename = './data/presidential_polls.csv'\n",
    "data_arr = np.loadtxt(filename,# 加载的外部文件的名称\n",
    "                       delimiter=',', # 文件分隔符\n",
    "                       #skiprows =1, # 设定跳过的行数\n",
    "                       dtype=str, # 数据类型为字符串类型\n",
    "                       usecols = (3,17,18,19) # 指定要加载的列的索引                       \n",
    "                      )"
   ]
  },
  {
   "cell_type": "code",
   "execution_count": 11,
   "metadata": {},
   "outputs": [
    {
     "name": "stdout",
     "output_type": "stream",
     "text": [
      "[['matchup' 'adjpoll_clinton' 'adjpoll_trump' 'adjpoll_johnson']\n",
      " ['\"Clinton vs. Trump vs. Johnson\"' '42.6414' '40.86509' '5.675099']\n",
      " ['\"Clinton vs. Trump vs. Johnson\"' '43.29659' '44.72984' '3.401513']\n",
      " ...\n",
      " ['\"Clinton vs. Trump vs. Johnson\"' '45.9713' '39.97518' '']\n",
      " ['\"Clinton vs. Trump vs. Johnson\"' '45.2939' '46.66175' '1.596946']\n",
      " ['\"Clinton vs. Trump vs. Johnson\"' '31.62721' '44.65947' '']]\n",
      "<class 'numpy.ndarray'>\n"
     ]
    }
   ],
   "source": [
    "print(data_arr)\n",
    "print(type(data_arr))"
   ]
  },
  {
   "cell_type": "markdown",
   "metadata": {},
   "source": [
    "# nadarray属性"
   ]
  },
  {
   "cell_type": "code",
   "execution_count": 12,
   "metadata": {},
   "outputs": [
    {
     "name": "stdout",
     "output_type": "stream",
     "text": [
      "维度个数： 2\n",
      "维度大小： (10237, 4)\n",
      "数据类型： <U31\n"
     ]
    }
   ],
   "source": [
    "print('维度个数：',data_arr.ndim)\n",
    "print('维度大小：',data_arr.shape)\n",
    "print('数据类型：',data_arr.dtype)"
   ]
  },
  {
   "cell_type": "code",
   "execution_count": 8,
   "metadata": {},
   "outputs": [],
   "source": [
    "data_arr = np.genfromtxt(filename, # 文件名称\n",
    "                         delimiter=',', #文件分隔符\n",
    "                         dtype = str,# 数据类型\n",
    "                         usecols = (3,17,18,19) #指定加载列的索引\n",
    "                        )"
   ]
  },
  {
   "cell_type": "code",
   "execution_count": 9,
   "metadata": {},
   "outputs": [
    {
     "name": "stdout",
     "output_type": "stream",
     "text": [
      "[['matchup' 'adjpoll_clinton' 'adjpoll_trump' 'adjpoll_johnson']\n",
      " ['\"Clinton vs. Trump vs. Johnson\"' '42.6414' '40.86509' '5.675099']\n",
      " ['\"Clinton vs. Trump vs. Johnson\"' '43.29659' '44.72984' '3.401513']\n",
      " ...\n",
      " ['\"Clinton vs. Trump vs. Johnson\"' '45.9713' '39.97518' '']\n",
      " ['\"Clinton vs. Trump vs. Johnson\"' '45.2939' '46.66175' '1.596946']\n",
      " ['\"Clinton vs. Trump vs. Johnson\"' '31.62721' '44.65947' '']]\n"
     ]
    }
   ],
   "source": [
    "print(data_arr)"
   ]
  },
  {
   "cell_type": "code",
   "execution_count": null,
   "metadata": {},
   "outputs": [],
   "source": [
    "# 随机ndarray创建"
   ]
  },
  {
   "cell_type": "code",
   "execution_count": null,
   "metadata": {},
   "outputs": [],
   "source": []
  },
  {
   "cell_type": "code",
   "execution_count": null,
   "metadata": {},
   "outputs": [],
   "source": []
  },
  {
   "cell_type": "code",
   "execution_count": null,
   "metadata": {},
   "outputs": [],
   "source": []
  }
 ],
 "metadata": {
  "kernelspec": {
   "display_name": "Python 3",
   "language": "python",
   "name": "python3"
  },
  "language_info": {
   "codemirror_mode": {
    "name": "ipython",
    "version": 3
   },
   "file_extension": ".py",
   "mimetype": "text/x-python",
   "name": "python",
   "nbconvert_exporter": "python",
   "pygments_lexer": "ipython3",
   "version": "3.6.2"
  }
 },
 "nbformat": 4,
 "nbformat_minor": 2
}
