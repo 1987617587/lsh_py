{
 "cells": [
  {
   "cell_type": "code",
   "execution_count": 1,
   "metadata": {},
   "outputs": [],
   "source": [
    "import numpy as np"
   ]
  },
  {
   "cell_type": "markdown",
   "metadata": {},
   "source": [
    "# csv数据的加载"
   ]
  },
  {
   "cell_type": "code",
   "execution_count": 2,
   "metadata": {},
   "outputs": [],
   "source": [
    "filename = './data/presidential_polls.csv'\n",
    "data_arr = np.loadtxt(filename,# 加载的外部文件的名称\n",
    "                       delimiter=',', # 文件分隔符\n",
    "                       #skiprows =1, # 设定跳过的行数\n",
    "                       dtype=str, # 数据类型为字符串类型\n",
    "                       usecols = (3,17,18,19) # 指定要加载的列的索引                       \n",
    "                      )"
   ]
  },
  {
   "cell_type": "code",
   "execution_count": 3,
   "metadata": {},
   "outputs": [
    {
     "name": "stdout",
     "output_type": "stream",
     "text": [
      "[['matchup' 'adjpoll_clinton' 'adjpoll_trump' 'adjpoll_johnson']\n",
      " ['\"Clinton vs. Trump vs. Johnson\"' '42.6414' '40.86509' '5.675099']\n",
      " ['\"Clinton vs. Trump vs. Johnson\"' '43.29659' '44.72984' '3.401513']\n",
      " ...\n",
      " ['\"Clinton vs. Trump vs. Johnson\"' '45.9713' '39.97518' '']\n",
      " ['\"Clinton vs. Trump vs. Johnson\"' '45.2939' '46.66175' '1.596946']\n",
      " ['\"Clinton vs. Trump vs. Johnson\"' '31.62721' '44.65947' '']]\n",
      "<class 'numpy.ndarray'>\n"
     ]
    }
   ],
   "source": [
    "print(data_arr)\n",
    "print(type(data_arr))"
   ]
  },
  {
   "cell_type": "markdown",
   "metadata": {},
   "source": [
    "# nadarray属性"
   ]
  },
  {
   "cell_type": "code",
   "execution_count": 4,
   "metadata": {},
   "outputs": [
    {
     "name": "stdout",
     "output_type": "stream",
     "text": [
      "维度个数： 2\n",
      "维度大小： (10237, 4)\n",
      "数据类型： <U31\n"
     ]
    }
   ],
   "source": [
    "print('维度个数：',data_arr.ndim)\n",
    "print('维度大小：',data_arr.shape)\n",
    "print('数据类型：',data_arr.dtype)"
   ]
  },
  {
   "cell_type": "code",
   "execution_count": 5,
   "metadata": {},
   "outputs": [],
   "source": [
    "data_arr = np.genfromtxt(filename, # 文件名称\n",
    "                         delimiter=',', #文件分隔符\n",
    "                         dtype = str,# 数据类型\n",
    "                         usecols = (3,17,18,19) #指定加载列的索引\n",
    "                        )"
   ]
  },
  {
   "cell_type": "code",
   "execution_count": 6,
   "metadata": {},
   "outputs": [
    {
     "name": "stdout",
     "output_type": "stream",
     "text": [
      "[['matchup' 'adjpoll_clinton' 'adjpoll_trump' 'adjpoll_johnson']\n",
      " ['\"Clinton vs. Trump vs. Johnson\"' '42.6414' '40.86509' '5.675099']\n",
      " ['\"Clinton vs. Trump vs. Johnson\"' '43.29659' '44.72984' '3.401513']\n",
      " ...\n",
      " ['\"Clinton vs. Trump vs. Johnson\"' '45.9713' '39.97518' '']\n",
      " ['\"Clinton vs. Trump vs. Johnson\"' '45.2939' '46.66175' '1.596946']\n",
      " ['\"Clinton vs. Trump vs. Johnson\"' '31.62721' '44.65947' '']]\n"
     ]
    }
   ],
   "source": [
    "print(data_arr)"
   ]
  },
  {
   "cell_type": "markdown",
   "metadata": {},
   "source": [
    "# 随机ndarray创建"
   ]
  },
  {
   "cell_type": "code",
   "execution_count": 7,
   "metadata": {},
   "outputs": [
    {
     "name": "stdout",
     "output_type": "stream",
     "text": [
      "[[0.33143092 0.64787879 0.77862463 0.09342747]\n",
      " [0.64778631 0.98999758 0.84105579 0.95500869]\n",
      " [0.68706854 0.44729499 0.28933953 0.46495526]]\n",
      "<class 'numpy.ndarray'>\n"
     ]
    }
   ],
   "source": [
    "arr = np.random.rand(3,4)\n",
    "print(arr)\n",
    "print(type(arr))"
   ]
  },
  {
   "cell_type": "code",
   "execution_count": 8,
   "metadata": {},
   "outputs": [
    {
     "name": "stdout",
     "output_type": "stream",
     "text": [
      "[[-0.0873181  -0.64333218  0.47159441 -0.51208466]\n",
      " [-1.50038613  0.56638212 -0.36171518 -0.81534537]\n",
      " [ 1.13699823  2.44380336 -1.07339622 -0.23555107]]\n"
     ]
    }
   ],
   "source": [
    "arr = np.random.randn(3,4)\n",
    "print(arr)"
   ]
  },
  {
   "cell_type": "markdown",
   "metadata": {},
   "source": [
    "# 随机整数数组的创建"
   ]
  },
  {
   "cell_type": "code",
   "execution_count": 9,
   "metadata": {},
   "outputs": [
    {
     "name": "stdout",
     "output_type": "stream",
     "text": [
      "[[ 2  4  4 -1]\n",
      " [ 2  4  0  3]\n",
      " [-1  2  2  0]]\n",
      "int32\n"
     ]
    }
   ],
   "source": [
    "arr = np.random.randint(-1,5,size=(3,4))\n",
    "print(arr)\n",
    "print(arr.dtype)"
   ]
  },
  {
   "cell_type": "markdown",
   "metadata": {},
   "source": [
    "# 随机浮点型数组的创建"
   ]
  },
  {
   "cell_type": "code",
   "execution_count": 10,
   "metadata": {},
   "outputs": [
    {
     "name": "stdout",
     "output_type": "stream",
     "text": [
      "[[-0.04022386  0.53610959  3.93668297  3.55409781]\n",
      " [ 3.37968083 -0.04499401  3.83549204  1.22231802]\n",
      " [ 1.24258144  2.28466898  4.27732212  3.33309329]]\n"
     ]
    }
   ],
   "source": [
    "arr = np.random.uniform(-1,5,size=(3,4))\n",
    "print(arr)"
   ]
  },
  {
   "cell_type": "markdown",
   "metadata": {},
   "source": [
    "# 创建全1的数组\n"
   ]
  },
  {
   "cell_type": "code",
   "execution_count": 11,
   "metadata": {},
   "outputs": [
    {
     "name": "stdout",
     "output_type": "stream",
     "text": [
      "[[1. 1. 1. 1.]\n",
      " [1. 1. 1. 1.]\n",
      " [1. 1. 1. 1.]]\n",
      "float64\n"
     ]
    }
   ],
   "source": [
    "arr_ones = np.ones((3,4))\n",
    "print(arr_ones)\n",
    "print(arr_ones.dtype)"
   ]
  },
  {
   "cell_type": "markdown",
   "metadata": {},
   "source": [
    "# 创建全0数组\n"
   ]
  },
  {
   "cell_type": "code",
   "execution_count": 12,
   "metadata": {},
   "outputs": [
    {
     "name": "stdout",
     "output_type": "stream",
     "text": [
      "[[0. 0. 0. 0.]\n",
      " [0. 0. 0. 0.]\n",
      " [0. 0. 0. 0.]]\n"
     ]
    }
   ],
   "source": [
    "arr_zeros = np.zeros((3,4))\n",
    "print(arr_zeros)"
   ]
  },
  {
   "cell_type": "markdown",
   "metadata": {},
   "source": [
    "# python list ==>numpy ndarray"
   ]
  },
  {
   "cell_type": "code",
   "execution_count": 13,
   "metadata": {},
   "outputs": [
    {
     "name": "stdout",
     "output_type": "stream",
     "text": [
      "[0 1 2 3 4 5 6 7 8 9]\n",
      "<class 'numpy.ndarray'>\n",
      "(10,)\n",
      "1\n"
     ]
    }
   ],
   "source": [
    "ls = range(10)\n",
    "arr = np.array(ls)\n",
    "print(arr)\n",
    "print(type(arr))\n",
    "print(arr.shape)\n",
    "print(arr.ndim)"
   ]
  },
  {
   "cell_type": "markdown",
   "metadata": {},
   "source": [
    "# 嵌套列表装换为ndarray"
   ]
  },
  {
   "cell_type": "code",
   "execution_count": 14,
   "metadata": {},
   "outputs": [
    {
     "name": "stdout",
     "output_type": "stream",
     "text": [
      "[[0 1 2 3 4 5 6 7 8 9]\n",
      " [0 1 2 3 4 5 6 7 8 9]]\n"
     ]
    }
   ],
   "source": [
    "ls = [range(10),range(10)]\n",
    "arr = np.array(ls)\n",
    "print(arr)"
   ]
  },
  {
   "cell_type": "markdown",
   "metadata": {},
   "source": [
    "# ndarray ==> list"
   ]
  },
  {
   "cell_type": "code",
   "execution_count": 15,
   "metadata": {},
   "outputs": [
    {
     "name": "stdout",
     "output_type": "stream",
     "text": [
      "[[0, 1, 2, 3, 4, 5, 6, 7, 8, 9], [0, 1, 2, 3, 4, 5, 6, 7, 8, 9]]\n",
      "<class 'list'>\n"
     ]
    }
   ],
   "source": [
    "ls  = arr.tolist()\n",
    "print(ls)\n",
    "print(type(ls))"
   ]
  },
  {
   "cell_type": "markdown",
   "metadata": {},
   "source": [
    "# 调整数组的维数"
   ]
  },
  {
   "cell_type": "code",
   "execution_count": 16,
   "metadata": {},
   "outputs": [
    {
     "name": "stdout",
     "output_type": "stream",
     "text": [
      "[ 0  1  2  3  4  5  6  7  8  9 10 11 12 13 14 15]\n",
      "<class 'numpy.ndarray'>\n"
     ]
    }
   ],
   "source": [
    "arr = np.arange(16)\n",
    "print(arr)\n",
    "print(type(arr))"
   ]
  },
  {
   "cell_type": "code",
   "execution_count": 17,
   "metadata": {},
   "outputs": [
    {
     "name": "stdout",
     "output_type": "stream",
     "text": [
      "[[ 0  1  2  3]\n",
      " [ 4  5  6  7]\n",
      " [ 8  9 10 11]\n",
      " [12 13 14 15]]\n"
     ]
    }
   ],
   "source": [
    "print(arr.reshape(4,4))"
   ]
  },
  {
   "cell_type": "code",
   "execution_count": 18,
   "metadata": {},
   "outputs": [
    {
     "name": "stdout",
     "output_type": "stream",
     "text": [
      "[[[ 0  1  2  3]\n",
      "  [ 4  5  6  7]]\n",
      "\n",
      " [[ 8  9 10 11]\n",
      "  [12 13 14 15]]]\n"
     ]
    }
   ],
   "source": [
    "print(arr.reshape(2,2,4))"
   ]
  },
  {
   "cell_type": "code",
   "execution_count": 19,
   "metadata": {},
   "outputs": [
    {
     "name": "stdout",
     "output_type": "stream",
     "text": [
      "[[[[ 0  1]\n",
      "   [ 2  3]]\n",
      "\n",
      "  [[ 4  5]\n",
      "   [ 6  7]]]\n",
      "\n",
      "\n",
      " [[[ 8  9]\n",
      "   [10 11]]\n",
      "\n",
      "  [[12 13]\n",
      "   [14 15]]]]\n"
     ]
    }
   ],
   "source": [
    "print(arr.reshape(2,2,2,2))"
   ]
  },
  {
   "cell_type": "code",
   "execution_count": 20,
   "metadata": {},
   "outputs": [
    {
     "name": "stdout",
     "output_type": "stream",
     "text": [
      "[[[[[ 0]\n",
      "    [ 1]]\n",
      "\n",
      "   [[ 2]\n",
      "    [ 3]]]\n",
      "\n",
      "\n",
      "  [[[ 4]\n",
      "    [ 5]]\n",
      "\n",
      "   [[ 6]\n",
      "    [ 7]]]]\n",
      "\n",
      "\n",
      "\n",
      " [[[[ 8]\n",
      "    [ 9]]\n",
      "\n",
      "   [[10]\n",
      "    [11]]]\n",
      "\n",
      "\n",
      "  [[[12]\n",
      "    [13]]\n",
      "\n",
      "   [[14]\n",
      "    [15]]]]]\n"
     ]
    }
   ],
   "source": [
    "print(arr.reshape(2,2,2,2,1))"
   ]
  },
  {
   "cell_type": "markdown",
   "metadata": {},
   "source": [
    "# 指定数组的数据类型"
   ]
  },
  {
   "cell_type": "code",
   "execution_count": 21,
   "metadata": {},
   "outputs": [
    {
     "name": "stdout",
     "output_type": "stream",
     "text": [
      "[[0. 0. 0. 0.]\n",
      " [0. 0. 0. 0.]\n",
      " [0. 0. 0. 0.]]\n",
      "float64\n"
     ]
    }
   ],
   "source": [
    "zero_float_arr = np.zeros((3,4),dtype=np.float64)\n",
    "print(zero_float_arr)\n",
    "print(zero_float_arr.dtype)"
   ]
  },
  {
   "cell_type": "code",
   "execution_count": 22,
   "metadata": {},
   "outputs": [
    {
     "name": "stdout",
     "output_type": "stream",
     "text": [
      "[[0 0 0 0]\n",
      " [0 0 0 0]\n",
      " [0 0 0 0]]\n",
      "int32\n"
     ]
    }
   ],
   "source": [
    "zero_int_arr = np.zeros((3,4),dtype=np.int32)\n",
    "print(zero_int_arr)\n",
    "print(zero_int_arr.dtype)"
   ]
  },
  {
   "cell_type": "markdown",
   "metadata": {},
   "source": [
    "# astype（）数据类型转换"
   ]
  },
  {
   "cell_type": "code",
   "execution_count": 23,
   "metadata": {},
   "outputs": [
    {
     "name": "stdout",
     "output_type": "stream",
     "text": [
      "[[0. 0. 0. 0.]\n",
      " [0. 0. 0. 0.]\n",
      " [0. 0. 0. 0.]]\n",
      "[[0 0 0 0]\n",
      " [0 0 0 0]\n",
      " [0 0 0 0]]\n",
      "int32\n"
     ]
    }
   ],
   "source": [
    "print(zero_float_arr)\n",
    "zero_int_arr_2 = zero_float_arr.astype(np.int32)\n",
    "print(zero_int_arr_2)\n",
    "print(zero_int_arr_2.dtype)"
   ]
  },
  {
   "cell_type": "markdown",
   "metadata": {},
   "source": [
    "# 一维数组的索引与切片"
   ]
  },
  {
   "cell_type": "code",
   "execution_count": 24,
   "metadata": {},
   "outputs": [
    {
     "name": "stdout",
     "output_type": "stream",
     "text": [
      "[0 1 2 3 4 5 6 7 8 9]\n",
      "3\n",
      "4\n",
      "[2 3 4 5]\n",
      "[0 1 2 3 4]\n",
      "[3 4 5 6 7 8 9]\n"
     ]
    }
   ],
   "source": [
    "arr1 = np.arange(10)\n",
    "print(arr1)\n",
    "print(arr1[3])\n",
    "print(arr1[4])\n",
    "print(arr1[2:6])\n",
    "print(arr1[:5])\n",
    "print(arr1[3:])"
   ]
  },
  {
   "cell_type": "markdown",
   "metadata": {},
   "source": [
    "# 多维数组的索引与切片"
   ]
  },
  {
   "cell_type": "code",
   "execution_count": 25,
   "metadata": {},
   "outputs": [
    {
     "name": "stdout",
     "output_type": "stream",
     "text": [
      "[[ 0  1  2  3]\n",
      " [ 4  5  6  7]\n",
      " [ 8  9 10 11]]\n",
      "[4 5 6 7]\n",
      "6\n",
      "[[1 2]\n",
      " [5 6]]\n",
      "[[ 1  2]\n",
      " [ 5  6]\n",
      " [ 9 10]]\n",
      "[[0 1 2 3]\n",
      " [4 5 6 7]]\n"
     ]
    }
   ],
   "source": [
    "arr2 = np.arange(12).reshape(3,4)\n",
    "print(arr2)\n",
    "print(arr2[1])\n",
    "print(arr2[1,2])\n",
    "print(arr2[0:2,1:3])\n",
    "print(arr2[:,1:3])\n",
    "print(arr2[0:2,:])"
   ]
  },
  {
   "cell_type": "markdown",
   "metadata": {},
   "source": [
    "# 条件索引"
   ]
  },
  {
   "cell_type": "code",
   "execution_count": 26,
   "metadata": {},
   "outputs": [
    {
     "name": "stdout",
     "output_type": "stream",
     "text": [
      "[[2000 2001 2003]\n",
      " [2005 2003 2008]\n",
      " [2001 2003 2010]]\n"
     ]
    }
   ],
   "source": [
    "year_arr = np.array([[2000,2001,2003],[2005,2003,2008],[2001,2003,2010]])\n",
    "print(year_arr)"
   ]
  },
  {
   "cell_type": "code",
   "execution_count": 27,
   "metadata": {},
   "outputs": [
    {
     "name": "stdout",
     "output_type": "stream",
     "text": [
      "[[False False False]\n",
      " [ True False  True]\n",
      " [False False  True]]\n",
      "bool\n",
      "2 2\n",
      "(3, 3) (3, 3)\n",
      "[2005 2008 2010]\n"
     ]
    }
   ],
   "source": [
    "bool_arr = year_arr >= 2005\n",
    "print(bool_arr)\n",
    "print(bool_arr.dtype)\n",
    "print(year_arr.ndim,bool_arr.ndim)\n",
    "print(year_arr.shape,bool_arr.shape)\n",
    "print(year_arr[bool_arr])"
   ]
  },
  {
   "cell_type": "code",
   "execution_count": 28,
   "metadata": {},
   "outputs": [
    {
     "name": "stdout",
     "output_type": "stream",
     "text": [
      "[[ 2.16822329 -0.90691252 -0.49558986]\n",
      " [ 0.20154505 -0.58072398  0.20795632]\n",
      " [ 0.09522698 -1.28836072  0.37367936]]\n"
     ]
    }
   ],
   "source": [
    "data_arr = np.random.randn(3,3)\n",
    "print(data_arr)"
   ]
  },
  {
   "cell_type": "code",
   "execution_count": 29,
   "metadata": {},
   "outputs": [
    {
     "name": "stdout",
     "output_type": "stream",
     "text": [
      "[0.20154505 0.20795632 0.37367936]\n"
     ]
    }
   ],
   "source": [
    "print(data_arr[bool_arr])"
   ]
  },
  {
   "cell_type": "markdown",
   "metadata": {},
   "source": [
    "# 元素计算函数"
   ]
  },
  {
   "cell_type": "code",
   "execution_count": 30,
   "metadata": {},
   "outputs": [
    {
     "name": "stdout",
     "output_type": "stream",
     "text": [
      "[[-1.08742586  1.3212366   0.45895624]\n",
      " [ 0.36783673  0.71915089  0.62917758]]\n"
     ]
    }
   ],
   "source": [
    "arr = np.random.randn(2,3)\n",
    "print(arr)"
   ]
  },
  {
   "cell_type": "code",
   "execution_count": 31,
   "metadata": {},
   "outputs": [
    {
     "name": "stdout",
     "output_type": "stream",
     "text": [
      "[[-1.  2.  1.]\n",
      " [ 1.  1.  1.]]\n"
     ]
    }
   ],
   "source": [
    "print(np.ceil(arr))"
   ]
  },
  {
   "cell_type": "code",
   "execution_count": 32,
   "metadata": {},
   "outputs": [
    {
     "name": "stdout",
     "output_type": "stream",
     "text": [
      "[[-2.  1.  0.]\n",
      " [ 0.  0.  0.]]\n"
     ]
    }
   ],
   "source": [
    "print(np.floor(arr))"
   ]
  },
  {
   "cell_type": "code",
   "execution_count": 33,
   "metadata": {},
   "outputs": [
    {
     "name": "stdout",
     "output_type": "stream",
     "text": [
      "[[-1.  1.  0.]\n",
      " [ 0.  1.  1.]]\n"
     ]
    }
   ],
   "source": [
    "print(np.rint(arr))"
   ]
  },
  {
   "cell_type": "code",
   "execution_count": 34,
   "metadata": {},
   "outputs": [
    {
     "name": "stdout",
     "output_type": "stream",
     "text": [
      "[[False False False]\n",
      " [False False False]]\n"
     ]
    }
   ],
   "source": [
    "print(np.isnan(arr))"
   ]
  },
  {
   "cell_type": "code",
   "execution_count": 35,
   "metadata": {},
   "outputs": [
    {
     "name": "stdout",
     "output_type": "stream",
     "text": [
      "[[-1.08742586  1.3212366   0.45895624]\n",
      " [ 0.36783673  0.71915089  0.62917758]]\n",
      "[[1.18249501 1.74566615 0.21064083]\n",
      " [0.13530386 0.517178   0.39586442]]\n"
     ]
    }
   ],
   "source": [
    "print(arr)\n",
    "print(np.multiply(arr,arr))"
   ]
  },
  {
   "cell_type": "code",
   "execution_count": 36,
   "metadata": {},
   "outputs": [
    {
     "name": "stdout",
     "output_type": "stream",
     "text": [
      "[[1. 1. 1.]\n",
      " [1. 1. 1.]]\n"
     ]
    }
   ],
   "source": [
    "print(np.divide(arr,arr))"
   ]
  },
  {
   "cell_type": "code",
   "execution_count": 37,
   "metadata": {},
   "outputs": [
    {
     "name": "stdout",
     "output_type": "stream",
     "text": [
      "[[-1  1  1]\n",
      " [ 1  1  1]]\n"
     ]
    }
   ],
   "source": [
    "print(np.where(arr>0,1,-1))"
   ]
  },
  {
   "cell_type": "markdown",
   "metadata": {},
   "source": [
    "# 元素统计函数"
   ]
  },
  {
   "cell_type": "code",
   "execution_count": 38,
   "metadata": {},
   "outputs": [
    {
     "name": "stdout",
     "output_type": "stream",
     "text": [
      "[[ 0  1  2  3]\n",
      " [ 4  5  6  7]\n",
      " [ 8  9 10 11]]\n"
     ]
    }
   ],
   "source": [
    "arr = np.arange(12).reshape(3,4)\n",
    "print(arr)"
   ]
  },
  {
   "cell_type": "code",
   "execution_count": 39,
   "metadata": {},
   "outputs": [
    {
     "name": "stdout",
     "output_type": "stream",
     "text": [
      "66\n",
      "[12 15 18 21]\n",
      "[ 6 22 38]\n"
     ]
    }
   ],
   "source": [
    "print(np.sum(arr))\n",
    "print(np.sum(arr,axis=0))\n",
    "print(np.sum(arr,axis=1))"
   ]
  },
  {
   "cell_type": "code",
   "execution_count": 41,
   "metadata": {},
   "outputs": [
    {
     "name": "stdout",
     "output_type": "stream",
     "text": [
      "5.5\n"
     ]
    }
   ],
   "source": [
    "print(np.mean(arr))"
   ]
  },
  {
   "cell_type": "code",
   "execution_count": 43,
   "metadata": {},
   "outputs": [
    {
     "name": "stdout",
     "output_type": "stream",
     "text": [
      "[[1 4 7 8]\n",
      " [3 2 0 6]\n",
      " [5 3 3 3]]\n"
     ]
    }
   ],
   "source": [
    "arr = np.random.randint(0,10,(3,4))\n",
    "print(arr)"
   ]
  },
  {
   "cell_type": "code",
   "execution_count": 46,
   "metadata": {},
   "outputs": [
    {
     "name": "stdout",
     "output_type": "stream",
     "text": [
      "8\n",
      "0\n"
     ]
    }
   ],
   "source": [
    "print(np.max(arr))\n",
    "print(np.min(arr))"
   ]
  },
  {
   "cell_type": "code",
   "execution_count": 48,
   "metadata": {},
   "outputs": [
    {
     "name": "stdout",
     "output_type": "stream",
     "text": [
      "[5 4 7 8]\n",
      "[1 0 3]\n"
     ]
    }
   ],
   "source": [
    "print(np.max(arr,axis=0))\n",
    "print(np.min(arr,axis=1))"
   ]
  },
  {
   "cell_type": "code",
   "execution_count": 50,
   "metadata": {},
   "outputs": [
    {
     "name": "stdout",
     "output_type": "stream",
     "text": [
      "5.1875\n",
      "2.277608394786075\n"
     ]
    }
   ],
   "source": [
    "print(np.var(arr))\n",
    "print(np.std(arr))"
   ]
  },
  {
   "cell_type": "code",
   "execution_count": 51,
   "metadata": {},
   "outputs": [
    {
     "name": "stdout",
     "output_type": "stream",
     "text": [
      "[2.66666667 0.66666667 8.22222222 4.22222222]\n",
      "[2.73861279 2.16506351 0.8660254 ]\n"
     ]
    }
   ],
   "source": [
    "print(np.var(arr,axis=0))\n",
    "print(np.std(arr,axis=1))"
   ]
  },
  {
   "cell_type": "code",
   "execution_count": 52,
   "metadata": {},
   "outputs": [
    {
     "name": "stdout",
     "output_type": "stream",
     "text": [
      "[[1 4 7 8]\n",
      " [3 2 0 6]\n",
      " [5 3 3 3]]\n",
      "[ 1  5 12 20 23 25 25 31 36 39 42 45]\n",
      "[   1    4   28  224  672 1344    0    0    0    0    0    0]\n"
     ]
    }
   ],
   "source": [
    "print(arr)\n",
    "print(np.cumsum(arr))\n",
    "print(np.cumprod(arr))"
   ]
  },
  {
   "cell_type": "markdown",
   "metadata": {},
   "source": [
    "# 元素判断函数\n"
   ]
  },
  {
   "cell_type": "code",
   "execution_count": 53,
   "metadata": {},
   "outputs": [
    {
     "name": "stdout",
     "output_type": "stream",
     "text": [
      "[[ 2.15067752 -0.71802329 -2.59868162]\n",
      " [-0.49925552  1.43221653 -1.03853216]]\n"
     ]
    }
   ],
   "source": [
    "arr = np.random.randn(2,3)\n",
    "print(arr)"
   ]
  },
  {
   "cell_type": "code",
   "execution_count": 54,
   "metadata": {},
   "outputs": [
    {
     "name": "stdout",
     "output_type": "stream",
     "text": [
      "True\n"
     ]
    }
   ],
   "source": [
    "print(np.any(arr>0))"
   ]
  },
  {
   "cell_type": "code",
   "execution_count": 55,
   "metadata": {},
   "outputs": [
    {
     "name": "stdout",
     "output_type": "stream",
     "text": [
      "False\n"
     ]
    }
   ],
   "source": [
    "print(np.all(arr>0))"
   ]
  },
  {
   "cell_type": "markdown",
   "metadata": {},
   "source": [
    "# 元素去重排序"
   ]
  },
  {
   "cell_type": "code",
   "execution_count": 56,
   "metadata": {},
   "outputs": [
    {
     "name": "stdout",
     "output_type": "stream",
     "text": [
      "[[1 2 1]\n",
      " [2 3 4]]\n"
     ]
    }
   ],
   "source": [
    "arr = np.array([[1,2,1],[2,3,4]])\n",
    "print(arr)"
   ]
  },
  {
   "cell_type": "code",
   "execution_count": 57,
   "metadata": {},
   "outputs": [
    {
     "name": "stdout",
     "output_type": "stream",
     "text": [
      "[1 2 3 4]\n"
     ]
    }
   ],
   "source": [
    "print(np.unique(arr))"
   ]
  },
  {
   "cell_type": "code",
   "execution_count": null,
   "metadata": {},
   "outputs": [],
   "source": []
  },
  {
   "cell_type": "code",
   "execution_count": null,
   "metadata": {},
   "outputs": [],
   "source": []
  }
 ],
 "metadata": {
  "kernelspec": {
   "display_name": "Python 3",
   "language": "python",
   "name": "python3"
  },
  "language_info": {
   "codemirror_mode": {
    "name": "ipython",
    "version": 3
   },
   "file_extension": ".py",
   "mimetype": "text/x-python",
   "name": "python",
   "nbconvert_exporter": "python",
   "pygments_lexer": "ipython3",
   "version": "3.6.2"
  }
 },
 "nbformat": 4,
 "nbformat_minor": 2
}
