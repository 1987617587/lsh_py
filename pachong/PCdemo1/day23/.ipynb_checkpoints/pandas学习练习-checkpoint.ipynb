{
 "cells": [
  {
   "cell_type": "code",
   "execution_count": 2,
   "metadata": {},
   "outputs": [],
   "source": [
    "import pandas as pd\n",
    "import numpy as np\n"
   ]
  },
  {
   "cell_type": "markdown",
   "metadata": {},
   "source": [
    "## Series\n",
    "Series是一种类似于一维数组的对象，组成：\n",
    "一组数据（各种NumPy数据类型）\n",
    "一组与之对应的索引（数据标签）\n",
    "索引(index)在左，数据(values)在右\n",
    "索引是自动创建的\n",
    "### 1、通过list构建Series\n",
    "ser_obj = pd.Series(range(10,30))\n",
    "不指定索引的话，默认从0开始\n",
    "范例\n",
    "print(ser_obj)\n",
    "print(ser_obj.head(3)) #打印前三行数据\n",
    "print(type(ser_obj)) #打印数据类型\n",
    "### 2、 通过dict构建Series\n",
    "范例\n",
    "dict = {1000:\"hello\",2000:\"world\",3000:\"!\"}\n",
    "ser_obj = pd.Series(dict)\n",
    "print(ser_obj)"
   ]
  },
  {
   "cell_type": "code",
   "execution_count": 3,
   "metadata": {},
   "outputs": [
    {
     "name": "stdout",
     "output_type": "stream",
     "text": [
      "0    10\n",
      "1    11\n",
      "2    12\n",
      "3    13\n",
      "4    14\n",
      "5    15\n",
      "6    16\n",
      "7    17\n",
      "8    18\n",
      "9    19\n",
      "dtype: int64\n",
      "<class 'pandas.core.series.Series'>\n",
      "0    10\n",
      "1    11\n",
      "2    12\n",
      "dtype: int64\n",
      "7    17\n",
      "8    18\n",
      "9    19\n",
      "dtype: int64\n"
     ]
    }
   ],
   "source": [
    "ser_obj = pd.Series(range(10,20))\n",
    "print(ser_obj)\n",
    "print(type(ser_obj))\n",
    "print(ser_obj.head(3)) #打印前三行数据\n",
    "print(ser_obj.tail(3)) #打印后三行数据"
   ]
  },
  {
   "cell_type": "code",
   "execution_count": 6,
   "metadata": {},
   "outputs": [
    {
     "name": "stdout",
     "output_type": "stream",
     "text": [
      "1000    hello\n",
      "2000    world\n",
      "3000        !\n",
      "dtype: object\n"
     ]
    }
   ],
   "source": [
    "dict = {1000:\"hello\",2000:\"world\",3000:\"!\"}\n",
    "ser_obj = pd.Series(dict)\n",
    "print(ser_obj)"
   ]
  },
  {
   "cell_type": "markdown",
   "metadata": {},
   "source": [
    "### 1. 通过ndarray构建DataFrame\n",
    "范例\n"
   ]
  },
  {
   "cell_type": "code",
   "execution_count": 11,
   "metadata": {},
   "outputs": [
    {
     "name": "stdout",
     "output_type": "stream",
     "text": [
      "          0         1         2         3\n",
      "0  0.456275  0.391126  0.633056  0.080891\n",
      "1  0.544013  0.039482  0.538399  0.824807\n",
      "2  0.225624  0.489394  0.161644  0.377619\n",
      "<class 'pandas.core.frame.DataFrame'>\n",
      "          0         1         2         3\n",
      "0  0.456275  0.391126  0.633056  0.080891\n",
      "1  0.544013  0.039482  0.538399  0.824807\n"
     ]
    }
   ],
   "source": [
    "arr_obj = np.random.rand(3,4)\n",
    "df_obj = pd.DataFrame(arr_obj)\n",
    "print(df_obj)\n",
    "print(type(df_obj))\n",
    "print(df_obj.head(2)) #看前两行"
   ]
  },
  {
   "cell_type": "markdown",
   "metadata": {},
   "source": [
    "### 2. 通过dict构建DataFrame"
   ]
  },
  {
   "cell_type": "code",
   "execution_count": 12,
   "metadata": {},
   "outputs": [
    {
     "name": "stdout",
     "output_type": "stream",
     "text": [
      "   A          B     C       D  E     F\n",
      "0  1 2017-12-12  10.0  python  3  Qiku\n",
      "1  1 2017-12-12  11.0    java  3  Qiku\n",
      "2  1 2017-12-12  12.0     c++  3  Qiku\n",
      "3  1 2017-12-12  13.0       c  3  Qiku\n"
     ]
    }
   ],
   "source": [
    "dict = {\n",
    "    \"A\":1,\n",
    "    \"B\":pd.Timestamp(\"20171212\"),\n",
    "    \"C\":pd.Series(range(10,14),dtype=\"float64\"),\n",
    "    \"D\":[\"python\",\"java\",\"c++\",\"c\"],\n",
    "    \"E\":np.array([3] *4,dtype=\"int32\"),\n",
    "    \"F\":\"Qiku\"\n",
    "}\n",
    "df_obj = pd.DataFrame(dict)\n",
    "print(df_obj)\n"
   ]
  },
  {
   "cell_type": "code",
   "execution_count": 13,
   "metadata": {},
   "outputs": [
    {
     "name": "stdout",
     "output_type": "stream",
     "text": [
      "python\n",
      "c++\n"
     ]
    }
   ],
   "source": [
    "#dataframe数据访问\n",
    "#通过索引，先列后行\n",
    "print(df_obj['D'][0])\n",
    "#查找指定元素，先找列，在找行\n",
    "print(df_obj.D[2])"
   ]
  },
  {
   "cell_type": "markdown",
   "metadata": {},
   "source": [
    "## 加载外部csv文件"
   ]
  },
  {
   "cell_type": "code",
   "execution_count": 14,
   "metadata": {},
   "outputs": [
    {
     "name": "stdout",
     "output_type": "stream",
     "text": [
      "       title  score                                  info\n",
      "0     肖申克的救赎    9.6                               希望让人自由。\n",
      "1       霸王别姬    9.6                                 风华绝代。\n",
      "2    这个杀手不太冷    9.4                       怪蜀黍和小萝莉不得不说的故事。\n",
      "3       阿甘正传    9.4                             一部美国近现代史。\n",
      "4       美丽人生    9.5                                最美的谎言。\n",
      "..       ...    ...                                   ...\n",
      "245     荒岛余生    8.5                              一个人的独角戏。\n",
      "246       勇士    8.9                     热血沸腾，相当完美的娱乐拳击大餐。\n",
      "247       枪火    8.7  一群演技精湛的戏骨，奉献出一个精致的黑帮小品，成就杜琪峰群戏的巅峰之作。\n",
      "248     迁徙的鸟    9.1                                最美的飞翔。\n",
      "249    攻壳机动队    8.9                    上承《银翼杀手》，下启《黑客帝国》。\n",
      "\n",
      "[250 rows x 3 columns]\n"
     ]
    }
   ],
   "source": [
    "df = pd.read_csv('data/douban.csv')\n",
    "print(df)"
   ]
  },
  {
   "cell_type": "code",
   "execution_count": 3,
   "metadata": {},
   "outputs": [
    {
     "name": "stdout",
     "output_type": "stream",
     "text": [
      "       title  score\n",
      "0     肖申克的救赎    9.6\n",
      "1       霸王别姬    9.6\n",
      "2    这个杀手不太冷    9.4\n",
      "3       阿甘正传    9.4\n",
      "4       美丽人生    9.5\n",
      "..       ...    ...\n",
      "245     荒岛余生    8.5\n",
      "246       勇士    8.9\n",
      "247       枪火    8.7\n",
      "248     迁徙的鸟    9.1\n",
      "249    攻壳机动队    8.9\n",
      "\n",
      "[250 rows x 2 columns]\n"
     ]
    }
   ],
   "source": [
    "df = pd.read_csv('data/douban.csv',usecols=['title','score'])\n",
    "print(df)"
   ]
  },
  {
   "cell_type": "markdown",
   "metadata": {},
   "source": [
    "## Series索引"
   ]
  },
  {
   "cell_type": "code",
   "execution_count": null,
   "metadata": {},
   "outputs": [],
   "source": [
    "1. index 指定行索引名\n",
    "不指定索引的话，默认从0开始"
   ]
  },
  {
   "cell_type": "markdown",
   "metadata": {},
   "source": [
    "### 1. index 指定行索引名"
   ]
  },
  {
   "cell_type": "code",
   "execution_count": 6,
   "metadata": {},
   "outputs": [
    {
     "name": "stdout",
     "output_type": "stream",
     "text": [
      "a    0\n",
      "b    1\n",
      "c    2\n",
      "d    3\n",
      "e    4\n",
      "dtype: int64\n"
     ]
    }
   ],
   "source": [
    "ser_obj = pd.Series(range(5), index = ['a', 'b', 'c', 'd', 'e'])\n",
    "print(ser_obj.head())"
   ]
  },
  {
   "cell_type": "code",
   "execution_count": 7,
   "metadata": {},
   "outputs": [
    {
     "name": "stdout",
     "output_type": "stream",
     "text": [
      "A    0\n",
      "B    1\n",
      "C    2\n",
      "D    3\n",
      "E    4\n",
      "dtype: int64\n"
     ]
    }
   ],
   "source": [
    "# 利用属性修改索引\n",
    "ser_obj.index = (['A', 'B', 'C', 'D', 'E'])\n",
    "print(ser_obj)"
   ]
  },
  {
   "cell_type": "markdown",
   "metadata": {},
   "source": [
    "### 2. 行索引"
   ]
  },
  {
   "cell_type": "code",
   "execution_count": 19,
   "metadata": {},
   "outputs": [
    {
     "name": "stdout",
     "output_type": "stream",
     "text": [
      "1\n",
      "2\n"
     ]
    }
   ],
   "source": [
    "#行索引\n",
    "print(ser_obj['b'])\n",
    "print(ser_obj[2])"
   ]
  },
  {
   "cell_type": "markdown",
   "metadata": {},
   "source": [
    "### 3. 切片索引"
   ]
  },
  {
   "cell_type": "code",
   "execution_count": 23,
   "metadata": {},
   "outputs": [
    {
     "name": "stdout",
     "output_type": "stream",
     "text": [
      "B    1\n",
      "C    2\n",
      "dtype: int64\n",
      "B    1\n",
      "C    2\n",
      "D    3\n",
      "dtype: int64\n"
     ]
    }
   ],
   "source": [
    "print(ser_obj[1:3])\n",
    "print(ser_obj['B':'D'])"
   ]
  },
  {
   "cell_type": "markdown",
   "metadata": {},
   "source": [
    "### 4.不连续索引"
   ]
  },
  {
   "cell_type": "code",
   "execution_count": 24,
   "metadata": {},
   "outputs": [
    {
     "name": "stdout",
     "output_type": "stream",
     "text": [
      "A    0\n",
      "C    2\n",
      "E    4\n",
      "dtype: int64\n",
      "A    0\n",
      "E    4\n",
      "dtype: int64\n"
     ]
    }
   ],
   "source": [
    "print(ser_obj[[0, 2, 4]])\n",
    "print(ser_obj[['A', 'E']])"
   ]
  },
  {
   "cell_type": "markdown",
   "metadata": {},
   "source": [
    "### 5. 布尔索引"
   ]
  },
  {
   "cell_type": "code",
   "execution_count": 25,
   "metadata": {},
   "outputs": [
    {
     "name": "stdout",
     "output_type": "stream",
     "text": [
      "A    False\n",
      "B    False\n",
      "C    False\n",
      "D     True\n",
      "E     True\n",
      "dtype: bool\n",
      "D    3\n",
      "E    4\n",
      "dtype: int64\n",
      "D    3\n",
      "E    4\n",
      "dtype: int64\n"
     ]
    }
   ],
   "source": [
    "ser_bool = ser_obj > 2\n",
    "print(ser_bool)\n",
    "print(ser_obj[ser_bool])\n",
    "print(ser_obj[ser_obj > 2])"
   ]
  },
  {
   "cell_type": "markdown",
   "metadata": {},
   "source": [
    "## DataFrame索引"
   ]
  },
  {
   "cell_type": "markdown",
   "metadata": {},
   "source": [
    "### 1. columns 指定列索引名"
   ]
  },
  {
   "cell_type": "code",
   "execution_count": 9,
   "metadata": {},
   "outputs": [
    {
     "name": "stdout",
     "output_type": "stream",
     "text": [
      "          a         b         c         d\n",
      "0  0.443089 -1.252251 -0.068372  0.693918\n",
      "1  0.150004 -0.555430  0.876956  0.584483\n",
      "2  0.571691  1.870179 -0.993798 -0.117185\n",
      "3  0.747551  0.024265 -0.025589  1.452942\n",
      "4  1.031956 -0.789453 -1.482885  1.127424\n"
     ]
    }
   ],
   "source": [
    "df_obj = pd.DataFrame(np.random.randn(5,4), columns = ['a', 'b', 'c', 'd'])#  指定列索引\n",
    "print(df_obj.head())"
   ]
  },
  {
   "cell_type": "code",
   "execution_count": 28,
   "metadata": {},
   "outputs": [
    {
     "name": "stdout",
     "output_type": "stream",
     "text": [
      "          a         b         c         d\n",
      "A  0.505765 -0.245012 -0.725554  0.873485\n",
      "B -0.245129 -0.171176 -0.699629  0.797298\n",
      "C -0.549784 -0.567473  0.362150  0.888390\n",
      "D -0.131546  0.707825 -0.194642 -0.892236\n",
      "E -0.189285  0.948868 -0.044856  0.356000\n"
     ]
    }
   ],
   "source": [
    "df_obj.index = (['A', 'B', 'C', 'D', 'E'])#  指定行索引\n",
    "print(df_obj.head())"
   ]
  },
  {
   "cell_type": "markdown",
   "metadata": {},
   "source": [
    "### 2. 列索引"
   ]
  },
  {
   "cell_type": "code",
   "execution_count": 31,
   "metadata": {},
   "outputs": [
    {
     "name": "stdout",
     "output_type": "stream",
     "text": [
      "A    0.505765\n",
      "B   -0.245129\n",
      "C   -0.549784\n",
      "D   -0.131546\n",
      "E   -0.189285\n",
      "Name: a, dtype: float64\n",
      "<class 'pandas.core.series.Series'>\n",
      "0.5057649127830904\n"
     ]
    }
   ],
   "source": [
    "print(df_obj['a']) # 返回Series类型\n",
    "print(type(df_obj['a']))\n",
    "print(df_obj['a'][0])"
   ]
  },
  {
   "cell_type": "markdown",
   "metadata": {},
   "source": [
    "### 3. 不连续索引"
   ]
  },
  {
   "cell_type": "code",
   "execution_count": 38,
   "metadata": {},
   "outputs": [
    {
     "name": "stdout",
     "output_type": "stream",
     "text": [
      "          a         b         c         d\n",
      "A  0.505765 -0.245012 -0.725554  0.873485\n",
      "B -0.245129 -0.171176 -0.699629  0.797298\n",
      "C -0.549784 -0.567473  0.362150  0.888390\n",
      "D -0.131546  0.707825 -0.194642 -0.892236\n",
      "E -0.189285  0.948868 -0.044856  0.356000\n",
      "          a         c\n",
      "A  0.505765 -0.725554\n",
      "B -0.245129 -0.699629\n",
      "C -0.549784  0.362150\n",
      "D -0.131546 -0.194642\n",
      "E -0.189285 -0.044856\n",
      "B   -0.245129\n",
      "C   -0.549784\n",
      "Name: a, dtype: float64\n",
      "          a         c\n",
      "B -0.245129 -0.699629\n",
      "C -0.549784  0.362150\n"
     ]
    }
   ],
   "source": [
    "print(df_obj)\n",
    "print(df_obj[['a','c']])\n",
    "# print(df_obj[['a':'c']])# error\n",
    "# print(df_obj[[1, 3]]) # error\n",
    "print(df_obj['a'][1:3])\n",
    "print(df_obj[['a','c']][1:3])\n"
   ]
  },
  {
   "cell_type": "markdown",
   "metadata": {},
   "source": [
    "### 布尔索引"
   ]
  },
  {
   "cell_type": "code",
   "execution_count": 50,
   "metadata": {},
   "outputs": [
    {
     "name": "stdout",
     "output_type": "stream",
     "text": [
      "          a         b         c         d\n",
      "A  0.505765 -0.245012 -0.725554  0.873485\n",
      "B -0.245129 -0.171176 -0.699629  0.797298\n",
      "C -0.549784 -0.567473  0.362150  0.888390\n",
      "D -0.131546  0.707825 -0.194642 -0.892236\n",
      "E -0.189285  0.948868 -0.044856  0.356000\n",
      "          a         b         c         d\n",
      "A  0.505765 -0.245012 -0.725554  0.873485\n"
     ]
    }
   ],
   "source": [
    "\n",
    "print(df_obj)\n",
    "\n",
    "print(df_obj[df_obj['a'] > 0])"
   ]
  },
  {
   "cell_type": "markdown",
   "metadata": {},
   "source": [
    "## 高级索引：标签、位置和混合"
   ]
  },
  {
   "cell_type": "markdown",
   "metadata": {},
   "source": [
    "### 1. loc 标签索引"
   ]
  },
  {
   "cell_type": "code",
   "execution_count": 44,
   "metadata": {},
   "outputs": [
    {
     "name": "stdout",
     "output_type": "stream",
     "text": [
      "A    0\n",
      "B    1\n",
      "C    2\n",
      "D    3\n",
      "E    4\n",
      "dtype: int64\n",
      "B    1\n",
      "C    2\n",
      "D    3\n",
      "dtype: int64\n",
      "B    1\n",
      "C    2\n",
      "D    3\n",
      "dtype: int64\n"
     ]
    }
   ],
   "source": [
    "#Series\n",
    "print(ser_obj)\n",
    "print(ser_obj['B':'D'])\n",
    "print(ser_obj.loc['B':'D']) # 等效\n"
   ]
  },
  {
   "cell_type": "code",
   "execution_count": 53,
   "metadata": {},
   "outputs": [
    {
     "name": "stdout",
     "output_type": "stream",
     "text": [
      "          a         b         c         d\n",
      "0  0.505765 -0.245012 -0.725554  0.873485\n",
      "1 -0.245129 -0.171176 -0.699629  0.797298\n",
      "2 -0.549784 -0.567473  0.362150  0.888390\n",
      "3 -0.131546  0.707825 -0.194642 -0.892236\n",
      "4 -0.189285  0.948868 -0.044856  0.356000\n",
      "0    0.505765\n",
      "1   -0.245129\n",
      "2   -0.549784\n",
      "3   -0.131546\n",
      "4   -0.189285\n",
      "Name: a, dtype: float64\n",
      "0    0.505765\n",
      "1   -0.245129\n",
      "2   -0.549784\n",
      "Name: a, dtype: float64\n",
      "          b         c\n",
      "1 -0.171176 -0.699629\n",
      "2 -0.567473  0.362150\n",
      "3  0.707825 -0.194642\n",
      "          b         c         d\n",
      "1 -0.171176 -0.699629  0.797298\n",
      "2 -0.567473  0.362150  0.888390\n",
      "3  0.707825 -0.194642 -0.892236\n"
     ]
    }
   ],
   "source": [
    "# DataFrame 不能直接切片，可以通过loc来做切片\n",
    "#DataFrame\n",
    "df_obj.index = (range(5))#  指定行索引\n",
    "\n",
    "print(df_obj)\n",
    "print(df_obj['a'])\n",
    "#第一个参数索引行，第二个参数是列\n",
    "print(df_obj.loc[0:2, 'a'])\n",
    "print(df_obj.loc[1:3,['b','c']])\n",
    "print(df_obj.loc[1:3,'b':'e'])\n",
    "\n"
   ]
  },
  {
   "cell_type": "markdown",
   "metadata": {},
   "source": [
    "### 2. iloc 位置索引"
   ]
  },
  {
   "cell_type": "code",
   "execution_count": 14,
   "metadata": {},
   "outputs": [
    {
     "name": "stdout",
     "output_type": "stream",
     "text": [
      "A    0\n",
      "B    1\n",
      "C    2\n",
      "D    3\n",
      "E    4\n",
      "dtype: int64\n",
      "B    1\n",
      "C    2\n",
      "dtype: int64\n",
      "B    1\n",
      "C    2\n",
      "dtype: int64\n"
     ]
    }
   ],
   "source": [
    "#Series\n",
    "print(ser_obj)\n",
    "print(ser_obj[1:3])\n",
    "print(ser_obj.iloc[1:3])\n",
    "# print(ser_obj.iloc['B':'D']) # error基于位置索引，不能使用编号"
   ]
  },
  {
   "cell_type": "code",
   "execution_count": 13,
   "metadata": {},
   "outputs": [
    {
     "name": "stdout",
     "output_type": "stream",
     "text": [
      "          a         b         c         d\n",
      "0  0.443089 -1.252251 -0.068372  0.693918\n",
      "1  0.150004 -0.555430  0.876956  0.584483\n",
      "2  0.571691  1.870179 -0.993798 -0.117185\n",
      "3  0.747551  0.024265 -0.025589  1.452942\n",
      "4  1.031956 -0.789453 -1.482885  1.127424\n",
      "0    0.443089\n",
      "1    0.150004\n",
      "Name: a, dtype: float64\n",
      "          a         b\n",
      "0  0.443089 -1.252251\n",
      "1  0.150004 -0.555430\n"
     ]
    }
   ],
   "source": [
    "# DataFrame\n",
    "print(df_obj)\n",
    "print(df_obj.iloc[0:2, 0])\n",
    "# print(df_obj[0:2, 0]) # error\n",
    "print(df_obj.iloc[0:2, 0:2])"
   ]
  },
  {
   "cell_type": "markdown",
   "metadata": {},
   "source": [
    "### 3. ix 标签与位置混合索引"
   ]
  },
  {
   "cell_type": "code",
   "execution_count": 19,
   "metadata": {},
   "outputs": [
    {
     "name": "stdout",
     "output_type": "stream",
     "text": [
      "A    0\n",
      "B    1\n",
      "C    2\n",
      "D    3\n",
      "E    4\n",
      "dtype: int64\n"
     ]
    },
    {
     "ename": "AttributeError",
     "evalue": "'Series' object has no attribute 'ix'",
     "output_type": "error",
     "traceback": [
      "\u001b[1;31m---------------------------------------------------------------------------\u001b[0m",
      "\u001b[1;31mAttributeError\u001b[0m                            Traceback (most recent call last)",
      "\u001b[1;32m<ipython-input-19-220df5e16e82>\u001b[0m in \u001b[0;36m<module>\u001b[1;34m\u001b[0m\n\u001b[0;32m      1\u001b[0m \u001b[1;31m#Series\u001b[0m\u001b[1;33m\u001b[0m\u001b[1;33m\u001b[0m\u001b[1;33m\u001b[0m\u001b[0m\n\u001b[0;32m      2\u001b[0m \u001b[0mprint\u001b[0m\u001b[1;33m(\u001b[0m\u001b[0mser_obj\u001b[0m\u001b[1;33m)\u001b[0m\u001b[1;33m\u001b[0m\u001b[1;33m\u001b[0m\u001b[0m\n\u001b[1;32m----> 3\u001b[1;33m \u001b[0mprint\u001b[0m\u001b[1;33m(\u001b[0m\u001b[0mser_obj\u001b[0m\u001b[1;33m.\u001b[0m\u001b[0mix\u001b[0m\u001b[1;33m[\u001b[0m\u001b[1;36m1\u001b[0m\u001b[1;33m:\u001b[0m\u001b[1;36m3\u001b[0m\u001b[1;33m]\u001b[0m\u001b[1;33m)\u001b[0m\u001b[1;33m\u001b[0m\u001b[1;33m\u001b[0m\u001b[0m\n\u001b[0m\u001b[0;32m      4\u001b[0m \u001b[1;31m# print(ser_obj.ix['B':'D'])\u001b[0m\u001b[1;33m\u001b[0m\u001b[1;33m\u001b[0m\u001b[1;33m\u001b[0m\u001b[0m\n",
      "\u001b[1;32mf:\\linux\\python\\myvenv\\env1\\lib\\site-packages\\pandas\\core\\generic.py\u001b[0m in \u001b[0;36m__getattr__\u001b[1;34m(self, name)\u001b[0m\n\u001b[0;32m   5272\u001b[0m             \u001b[1;32mif\u001b[0m \u001b[0mself\u001b[0m\u001b[1;33m.\u001b[0m\u001b[0m_info_axis\u001b[0m\u001b[1;33m.\u001b[0m\u001b[0m_can_hold_identifiers_and_holds_name\u001b[0m\u001b[1;33m(\u001b[0m\u001b[0mname\u001b[0m\u001b[1;33m)\u001b[0m\u001b[1;33m:\u001b[0m\u001b[1;33m\u001b[0m\u001b[1;33m\u001b[0m\u001b[0m\n\u001b[0;32m   5273\u001b[0m                 \u001b[1;32mreturn\u001b[0m \u001b[0mself\u001b[0m\u001b[1;33m[\u001b[0m\u001b[0mname\u001b[0m\u001b[1;33m]\u001b[0m\u001b[1;33m\u001b[0m\u001b[1;33m\u001b[0m\u001b[0m\n\u001b[1;32m-> 5274\u001b[1;33m             \u001b[1;32mreturn\u001b[0m \u001b[0mobject\u001b[0m\u001b[1;33m.\u001b[0m\u001b[0m__getattribute__\u001b[0m\u001b[1;33m(\u001b[0m\u001b[0mself\u001b[0m\u001b[1;33m,\u001b[0m \u001b[0mname\u001b[0m\u001b[1;33m)\u001b[0m\u001b[1;33m\u001b[0m\u001b[1;33m\u001b[0m\u001b[0m\n\u001b[0m\u001b[0;32m   5275\u001b[0m \u001b[1;33m\u001b[0m\u001b[0m\n\u001b[0;32m   5276\u001b[0m     \u001b[1;32mdef\u001b[0m \u001b[0m__setattr__\u001b[0m\u001b[1;33m(\u001b[0m\u001b[0mself\u001b[0m\u001b[1;33m,\u001b[0m \u001b[0mname\u001b[0m\u001b[1;33m:\u001b[0m \u001b[0mstr\u001b[0m\u001b[1;33m,\u001b[0m \u001b[0mvalue\u001b[0m\u001b[1;33m)\u001b[0m \u001b[1;33m->\u001b[0m \u001b[1;32mNone\u001b[0m\u001b[1;33m:\u001b[0m\u001b[1;33m\u001b[0m\u001b[1;33m\u001b[0m\u001b[0m\n",
      "\u001b[1;31mAttributeError\u001b[0m: 'Series' object has no attribute 'ix'"
     ]
    }
   ],
   "source": [
    "#Series\n",
    "print(ser_obj)\n",
    "print(ser_obj.ix[1:3])\n",
    "# print(ser_obj.ix['B':'D'])"
   ]
  },
  {
   "cell_type": "code",
   "execution_count": 23,
   "metadata": {},
   "outputs": [
    {
     "name": "stdout",
     "output_type": "stream",
     "text": [
      "          a         b         c         d\n",
      "0  0.443089 -1.252251 -0.068372  0.693918\n",
      "1  0.150004 -0.555430  0.876956  0.584483\n",
      "2  0.571691  1.870179 -0.993798 -0.117185\n",
      "3  0.747551  0.024265 -0.025589  1.452942\n",
      "4  1.031956 -0.789453 -1.482885  1.127424\n",
      "0    0.443089\n",
      "1    0.150004\n",
      "2    0.571691\n",
      "Name: a, dtype: float64\n"
     ]
    }
   ],
   "source": [
    "#DataFrame\n",
    "print(df_obj)\n",
    "print(df_obj.loc[0:2, 'a'])\n",
    "# print(df_obj.ix[0:2, 'a'])"
   ]
  },
  {
   "cell_type": "markdown",
   "metadata": {},
   "source": [
    "## 分组和聚合"
   ]
  },
  {
   "cell_type": "code",
   "execution_count": 24,
   "metadata": {},
   "outputs": [
    {
     "name": "stdout",
     "output_type": "stream",
     "text": [
      "  key1   key2     data1     data2\n",
      "0    a    one  1.816777  0.136459\n",
      "1    b    one  1.921876 -0.023843\n",
      "2    a    two  0.712416 -0.805121\n",
      "3    b  three  1.161220 -0.134626\n",
      "4    a    two  1.440253  0.329836\n",
      "5    b    two  1.342576 -0.146018\n",
      "6    a    one  1.854579  0.213395\n",
      "7    a  three  0.780843  1.287296\n",
      "<pandas.core.groupby.generic.DataFrameGroupBy object at 0x000001F8BC333A20>\n"
     ]
    }
   ],
   "source": [
    "# 范例\n",
    "dict_obj = {'key1' : ['a', 'b', 'a', 'b', \n",
    "                      'a', 'b', 'a', 'a'],\n",
    "            'key2' : ['one', 'one', 'two', 'three',\n",
    "                      'two', 'two', 'one', 'three'],\n",
    "            'data1': np.random.randn(8),\n",
    "            'data2': np.random.randn(8)}\n",
    "df_obj = pd.DataFrame(dict_obj)\n",
    "print(df_obj)\n",
    "#分组操作，如果对整个数据集进行分组，groupby参数直接指定列名即可\n",
    "grouped = df_obj.groupby(\"key2\")\n",
    "print(grouped) "
   ]
  },
  {
   "cell_type": "code",
   "execution_count": 26,
   "metadata": {},
   "outputs": [
    {
     "name": "stdout",
     "output_type": "stream",
     "text": [
      "          data1     data2\n",
      "key2                     \n",
      "one    5.593232  0.326011\n",
      "three  1.942064  1.152670\n",
      "two    3.495245 -0.621303\n"
     ]
    }
   ],
   "source": [
    "result =grouped.sum()\n",
    "print(result)\n"
   ]
  },
  {
   "cell_type": "code",
   "execution_count": 30,
   "metadata": {},
   "outputs": [
    {
     "name": "stdout",
     "output_type": "stream",
     "text": [
      "  key1   key2     data1     data2\n",
      "0    a    one  1.816777  0.136459\n",
      "1    b    one  1.921876 -0.023843\n",
      "2    a    two  0.712416 -0.805121\n",
      "3    b  three  1.161220 -0.134626\n",
      "4    a    two  1.440253  0.329836\n",
      "5    b    two  1.342576 -0.146018\n",
      "6    a    one  1.854579  0.213395\n",
      "7    a  three  0.780843  1.287296\n"
     ]
    },
    {
     "data": {
      "text/plain": [
       "key1\n",
       "a    0.232373\n",
       "b   -0.101496\n",
       "Name: data2, dtype: float64"
      ]
     },
     "execution_count": 30,
     "metadata": {},
     "output_type": "execute_result"
    }
   ],
   "source": [
    "print(df_obj)\n",
    "grouped2 = df_obj[\"data2\"].groupby(df_obj[\"key1\"])\n",
    "grouped2.mean() #求平均值 \n"
   ]
  },
  {
   "cell_type": "code",
   "execution_count": 29,
   "metadata": {
    "scrolled": true
   },
   "outputs": [
    {
     "name": "stdout",
     "output_type": "stream",
     "text": [
      "  key1   key2     data1     data2\n",
      "0    a    one  1.816777  0.136459\n",
      "1    b    one  1.921876 -0.023843\n",
      "2    a    two  0.712416 -0.805121\n",
      "3    b  three  1.161220 -0.134626\n",
      "4    a    two  1.440253  0.329836\n",
      "5    b    two  1.342576 -0.146018\n",
      "6    a    one  1.854579  0.213395\n",
      "7    a  three  0.780843  1.287296\n",
      "         data1     data2\n",
      "key1                    \n",
      "a     1.320974  0.232373\n",
      "b     1.475224 -0.101496\n",
      "key1\n",
      "a    5\n",
      "b    3\n",
      "dtype: int64\n"
     ]
    }
   ],
   "source": [
    "print(df_obj)\n",
    "grouped1 = df_obj.groupby('key1') \n",
    "print(grouped1.mean())\n",
    "print(grouped1.size())"
   ]
  },
  {
   "cell_type": "code",
   "execution_count": 31,
   "metadata": {},
   "outputs": [
    {
     "name": "stdout",
     "output_type": "stream",
     "text": [
      "          data1     data2\n",
      "count  8.000000  8.000000\n",
      "mean   1.378818  0.107172\n",
      "std    0.473161  0.588755\n",
      "min    0.712416 -0.805121\n",
      "25%    1.066126 -0.137474\n",
      "50%    1.391414  0.056308\n",
      "75%    1.826228  0.242505\n",
      "max    1.921876  1.287296\n"
     ]
    }
   ],
   "source": [
    "print(df_obj.describe())"
   ]
  },
  {
   "cell_type": "markdown",
   "metadata": {},
   "source": [
    "### 自定义分组"
   ]
  },
  {
   "cell_type": "code",
   "execution_count": 33,
   "metadata": {},
   "outputs": [
    {
     "name": "stdout",
     "output_type": "stream",
     "text": [
      "  key1   key2     data1     data2\n",
      "0    a    one  1.816777  0.136459\n",
      "1    b    one  1.921876 -0.023843\n",
      "2    a    two  0.712416 -0.805121\n",
      "3    b  three  1.161220 -0.134626\n",
      "4    a    two  1.440253  0.329836\n",
      "5    b    two  1.342576 -0.146018\n",
      "6    a    one  1.854579  0.213395\n",
      "7    a  three  0.780843  1.287296\n",
      "0    2\n",
      "1    1\n",
      "2    1\n",
      "3    2\n",
      "4    1\n",
      "5    1\n",
      "dtype: int64\n"
     ]
    }
   ],
   "source": [
    "print(df_obj)\n",
    "self_def_key =[0,0,1,2,3,3,4,5] # 定义索引和分组\n",
    "\n",
    "print(df_obj.groupby(self_def_key).size())\n",
    "\n"
   ]
  },
  {
   "cell_type": "code",
   "execution_count": 35,
   "metadata": {
    "scrolled": false
   },
   "outputs": [
    {
     "name": "stdout",
     "output_type": "stream",
     "text": [
      "  key1   key2     data1     data2\n",
      "0    a    one  1.816777  0.136459\n",
      "1    b    one  1.921876 -0.023843\n",
      "2    a    two  0.712416 -0.805121\n",
      "3    b  three  1.161220 -0.134626\n",
      "4    a    two  1.440253  0.329836\n",
      "5    b    two  1.342576 -0.146018\n",
      "6    a    one  1.854579  0.213395\n",
      "7    a  three  0.780843  1.287296\n",
      "group1    2\n",
      "group2    2\n",
      "group3    4\n",
      "dtype: int64\n",
      "       key1 key2     data1     data2\n",
      "group1    a  two  1.816777  0.136459\n",
      "group2    b  one  1.921876  0.213395\n",
      "group3    b  two  1.440253  1.287296\n"
     ]
    }
   ],
   "source": [
    "print(df_obj)\n",
    "## 定义索引和分组\n",
    "self_def_key =['group1','group2','group1','group3','group3','group3','group2','group3'] \n",
    "grouped3 = df_obj.groupby(self_def_key)\n",
    "print(df_obj.groupby(self_def_key).size())\n",
    "print(df_obj.groupby(self_def_key).max())"
   ]
  },
  {
   "cell_type": "markdown",
   "metadata": {},
   "source": [
    "### GroupBy对象支持迭代操作"
   ]
  },
  {
   "cell_type": "code",
   "execution_count": 37,
   "metadata": {
    "scrolled": false
   },
   "outputs": [
    {
     "name": "stdout",
     "output_type": "stream",
     "text": [
      "group1\n",
      "  key1 key2     data1     data2\n",
      "0    a  one  1.816777  0.136459\n",
      "2    a  two  0.712416 -0.805121\n",
      "group2\n",
      "  key1 key2     data1     data2\n",
      "1    b  one  1.921876 -0.023843\n",
      "6    a  one  1.854579  0.213395\n",
      "group3\n",
      "  key1   key2     data1     data2\n",
      "3    b  three  1.161220 -0.134626\n",
      "4    a    two  1.440253  0.329836\n",
      "5    b    two  1.342576 -0.146018\n",
      "7    a  three  0.780843  1.287296\n"
     ]
    }
   ],
   "source": [
    "#单层分组 - 范例\n",
    "self_def_key =['group1','group2','group1','group3','group3','group3','group2','group3'] \n",
    "grouped3 = df_obj.groupby(self_def_key)\n",
    "for group_name, group_data in grouped3:\n",
    "    print(group_name)\n",
    "    print(group_data)"
   ]
  },
  {
   "cell_type": "code",
   "execution_count": 38,
   "metadata": {},
   "outputs": [
    {
     "name": "stdout",
     "output_type": "stream",
     "text": [
      "  key1   key2     data1     data2\n",
      "0    a    one  1.816777  0.136459\n",
      "1    b    one  1.921876 -0.023843\n",
      "2    a    two  0.712416 -0.805121\n",
      "3    b  three  1.161220 -0.134626\n",
      "4    a    two  1.440253  0.329836\n",
      "5    b    two  1.342576 -0.146018\n",
      "6    a    one  1.854579  0.213395\n",
      "7    a  three  0.780843  1.287296\n",
      "key1  key2 \n",
      "a     one      2\n",
      "      three    1\n",
      "      two      2\n",
      "b     one      1\n",
      "      three    1\n",
      "      two      1\n",
      "dtype: int64\n",
      "('a', 'one')\n",
      "  key1 key2     data1     data2\n",
      "0    a  one  1.816777  0.136459\n",
      "6    a  one  1.854579  0.213395\n",
      "('a', 'three')\n",
      "  key1   key2     data1     data2\n",
      "7    a  three  0.780843  1.287296\n",
      "('a', 'two')\n",
      "  key1 key2     data1     data2\n",
      "2    a  two  0.712416 -0.805121\n",
      "4    a  two  1.440253  0.329836\n",
      "('b', 'one')\n",
      "  key1 key2     data1     data2\n",
      "1    b  one  1.921876 -0.023843\n",
      "('b', 'three')\n",
      "  key1   key2    data1     data2\n",
      "3    b  three  1.16122 -0.134626\n",
      "('b', 'two')\n",
      "  key1 key2     data1     data2\n",
      "5    b  two  1.342576 -0.146018\n"
     ]
    }
   ],
   "source": [
    "# 多层分组\n",
    "# 可以指定多个列，索引顺序按列表里的参数顺序来决定\n",
    "# 范例\n",
    "#按多个列多层分组\n",
    "print(df_obj)\n",
    "grouped2 = df_obj.groupby(['key1', 'key2'])\n",
    "print(grouped2.size())\n",
    "\n",
    "#多层分组，根据key1 和 key2\n",
    "for group_name, group_data in grouped2:\n",
    "    print(group_name)\n",
    "    print(group_data)\n"
   ]
  },
  {
   "cell_type": "code",
   "execution_count": 39,
   "metadata": {
    "scrolled": true
   },
   "outputs": [
    {
     "name": "stdout",
     "output_type": "stream",
     "text": [
      "[(('a', 'one'),   key1 key2     data1     data2\n",
      "0    a  one  1.816777  0.136459\n",
      "6    a  one  1.854579  0.213395), (('a', 'three'),   key1   key2     data1     data2\n",
      "7    a  three  0.780843  1.287296), (('a', 'two'),   key1 key2     data1     data2\n",
      "2    a  two  0.712416 -0.805121\n",
      "4    a  two  1.440253  0.329836), (('b', 'one'),   key1 key2     data1     data2\n",
      "1    b  one  1.921876 -0.023843), (('b', 'three'),   key1   key2    data1     data2\n",
      "3    b  three  1.16122 -0.134626), (('b', 'two'),   key1 key2     data1     data2\n",
      "5    b  two  1.342576 -0.146018)]\n"
     ]
    }
   ],
   "source": [
    "### GroupBy对象可以转换成列表\n",
    "print(list(grouped2))\n"
   ]
  },
  {
   "cell_type": "markdown",
   "metadata": {},
   "source": [
    "### 按列分组、数据类型分组"
   ]
  },
  {
   "cell_type": "code",
   "execution_count": 42,
   "metadata": {},
   "outputs": [
    {
     "name": "stdout",
     "output_type": "stream",
     "text": [
      "  key1   key2     data1     data2\n",
      "0    a    one  1.816777  0.136459\n",
      "1    b    one  1.921876 -0.023843\n",
      "2    a    two  0.712416 -0.805121\n",
      "3    b  three  1.161220 -0.134626\n",
      "4    a    two  1.440253  0.329836\n",
      "5    b    two  1.342576 -0.146018\n",
      "6    a    one  1.854579  0.213395\n",
      "7    a  three  0.780843  1.287296\n",
      "key1      object\n",
      "key2      object\n",
      "data1    float64\n",
      "data2    float64\n",
      "dtype: object\n",
      "float64    2\n",
      "object     2\n",
      "dtype: int64\n",
      "    float64  object\n",
      "0  1.953236    aone\n",
      "1  1.898033    bone\n",
      "2 -0.092706    atwo\n",
      "3  1.026594  bthree\n",
      "4  1.770089    atwo\n",
      "5  1.196559    btwo\n",
      "6  2.067974    aone\n",
      "7  2.068140  athree\n"
     ]
    }
   ],
   "source": [
    "print(df_obj)\n",
    "print(df_obj.dtypes) #显示有两个float64类型，两个object类型 \n",
    "#按数据类型分组 \n",
    "print(df_obj.groupby(df_obj.dtypes, axis=1).size())\n",
    "print(df_obj.groupby(df_obj.dtypes, axis=1).sum())"
   ]
  },
  {
   "cell_type": "markdown",
   "metadata": {},
   "source": [
    "### 通过字典分组"
   ]
  },
  {
   "cell_type": "code",
   "execution_count": 52,
   "metadata": {
    "scrolled": true
   },
   "outputs": [
    {
     "name": "stdout",
     "output_type": "stream",
     "text": [
      "   a    b    c    d  e\n",
      "A  1  2.0  1.0  6.0  9\n",
      "B  8  NaN  NaN  NaN  1\n",
      "C  9  9.0  7.0  9.0  4\n",
      "D  1  3.0  2.0  2.0  1\n",
      "E  1  7.0  3.0  5.0  9\n",
      "   C  Java  Python\n",
      "A  1     2       2\n",
      "B  0     1       1\n",
      "C  1     2       2\n",
      "D  1     2       2\n",
      "E  1     2       2\n",
      "     C  Java  Python\n",
      "A  6.0  10.0     3.0\n",
      "B  0.0   1.0     8.0\n",
      "C  9.0  11.0    18.0\n",
      "D  2.0   3.0     4.0\n",
      "E  5.0  12.0     8.0\n"
     ]
    }
   ],
   "source": [
    "df_obj2 = pd.DataFrame(np.random.randint(1, 10, (5,5)),\n",
    "                       columns=['a', 'b', 'c', 'd', 'e'],\n",
    "                       index=['A', 'B', 'C', 'D', 'E'])\n",
    "df_obj2.loc['B', 1:4] = np.NaN\n",
    "print(df_obj2)\n",
    "\n",
    "mapping_dict = {'a':'Python', 'b':'Python', 'c':'Java', 'd':'C', 'e':'Java'}\n",
    "# print(df_obj2.groupby(mapping_dict, axis=1).size())\n",
    "print(df_obj2.groupby(mapping_dict, axis=1).count()) # 非NaN的个数\n",
    "print(df_obj2.groupby(mapping_dict, axis=1).sum())\n"
   ]
  },
  {
   "cell_type": "code",
   "execution_count": 48,
   "metadata": {
    "collapsed": true
   },
   "outputs": [
    {
     "name": "stdout",
     "output_type": "stream",
     "text": [
      "   a    b    c    d  e\n",
      "A  3  6.0  2.0  2.0  9\n",
      "B  9  NaN  NaN  NaN  8\n",
      "C  3  3.0  9.0  6.0  5\n",
      "D  8  5.0  5.0  4.0  5\n",
      "E  7  6.0  3.0  8.0  3\n",
      "C         1\n",
      "Java      2\n",
      "Python    2\n",
      "dtype: int64\n",
      "        a  b  c  d  e\n",
      "C       1  1  1  1  1\n",
      "Java    2  2  2  2  2\n",
      "Python  2  1  1  1  2\n",
      "         a    b     c     d   e\n",
      "C        8  5.0   5.0   4.0   5\n",
      "Java    10  9.0  12.0  14.0   8\n",
      "Python  12  6.0   2.0   2.0  17\n"
     ]
    }
   ],
   "source": [
    "print(df_obj2)\n",
    "\n",
    "mapping_dict = {'A':'Python', 'B':'Python', 'C':'Java', 'D':'C', 'E':'Java'}\n",
    "print(df_obj2.groupby(mapping_dict, axis=0).size())\n",
    "print(df_obj2.groupby(mapping_dict, axis=0).count()) # 非NaN的个数\n",
    "print(df_obj2.groupby(mapping_dict, axis=0).sum())"
   ]
  },
  {
   "cell_type": "markdown",
   "metadata": {},
   "source": [
    "## 聚合"
   ]
  },
  {
   "cell_type": "code",
   "execution_count": 9,
   "metadata": {},
   "outputs": [
    {
     "name": "stdout",
     "output_type": "stream",
     "text": [
      "  key1   key2  data1  data2\n",
      "0    a    one      1      7\n",
      "1    b    one      7      1\n",
      "2    a    two      1      7\n",
      "3    b  three      7      5\n",
      "4    a    two      8      6\n",
      "5    b    two      5      1\n",
      "6    a    one      5      6\n",
      "7    a  three      1      1\n",
      "<class 'pandas.core.frame.DataFrame'>\n",
      "      data1  data2\n",
      "key1              \n",
      "a        16     27\n",
      "b        19      7\n",
      "     key2  data1  data2\n",
      "key1                   \n",
      "a     two      8      7\n",
      "b     two      7      5\n",
      "     key2  data1  data2\n",
      "key1                   \n",
      "a     one      1      1\n",
      "b     one      5      1\n",
      "         data1     data2\n",
      "key1                    \n",
      "a     3.200000  5.400000\n",
      "b     6.333333  2.333333\n",
      "key1\n",
      "a    5\n",
      "b    3\n",
      "dtype: int64\n",
      "      key2  data1  data2\n",
      "key1                    \n",
      "a        5      5      5\n",
      "b        3      3      3\n",
      "     data1                                              data2            \\\n",
      "     count      mean       std  min  25%  50%  75%  max count      mean   \n",
      "key1                                                                      \n",
      "a      5.0  3.200000  3.193744  1.0  1.0  1.0  5.0  8.0   5.0  5.400000   \n",
      "b      3.0  6.333333  1.154701  5.0  6.0  7.0  7.0  7.0   3.0  2.333333   \n",
      "\n",
      "                                         \n",
      "           std  min  25%  50%  75%  max  \n",
      "key1                                     \n",
      "a     2.509980  1.0  6.0  6.0  7.0  7.0  \n",
      "b     2.309401  1.0  1.0  1.0  3.0  5.0  \n"
     ]
    }
   ],
   "source": [
    "dict_obj = {'key1' : ['a', 'b', 'a', 'b', 'a', 'b', 'a', 'a'], \n",
    "            'key2' : ['one', 'one', 'two', 'three', 'two', 'two', 'one', 'three'], \n",
    "            'data1': np.random.randint(1,10, 8), \n",
    "            'data2': np.random.randint(1,10, 8)} \n",
    "df_obj5 = pd.DataFrame(dict_obj) \n",
    "print(df_obj5)\n",
    "print(type(df_obj5))\n",
    "print(df_obj5.groupby('key1').sum())\n",
    "print(df_obj5.groupby('key1').max())\n",
    "print(df_obj5.groupby('key1').min())\n",
    "print(df_obj5.groupby('key1').mean())\n",
    "print(df_obj5.groupby('key1').size())\n",
    "print(df_obj5.groupby('key1').count())\n",
    "print(df_obj5.groupby('key1').describe())\n"
   ]
  },
  {
   "cell_type": "markdown",
   "metadata": {},
   "source": [
    "### 自定义聚合函数"
   ]
  },
  {
   "cell_type": "code",
   "execution_count": 12,
   "metadata": {},
   "outputs": [
    {
     "name": "stdout",
     "output_type": "stream",
     "text": [
      "  key1   key2  data1  data2\n",
      "0    a    one      1      7\n",
      "1    b    one      7      1\n",
      "2    a    two      1      7\n",
      "3    b  three      7      5\n",
      "4    a    two      8      6\n",
      "5    b    two      5      1\n",
      "6    a    one      5      6\n",
      "7    a  three      1      1\n",
      "       data1  data2\n",
      "key2               \n",
      "one        6      6\n",
      "three      6      4\n",
      "two        7      6\n",
      "       data1  data2\n",
      "key2               \n",
      "one        6      6\n",
      "three      6      4\n",
      "two        7      6\n"
     ]
    }
   ],
   "source": [
    "print(df_obj5)\n",
    "def func(num): #最大值和最小值的差\n",
    "    return num.max() - num.min() \n",
    "print(df_obj5.groupby(\"key2\").agg(func))\n",
    "print(df_obj5.groupby(\"key2\").agg(lambda df:df.max()-df.min()))"
   ]
  },
  {
   "cell_type": "markdown",
   "metadata": {},
   "source": [
    "### 多个聚合函数的调用"
   ]
  },
  {
   "cell_type": "code",
   "execution_count": 13,
   "metadata": {},
   "outputs": [
    {
     "name": "stdout",
     "output_type": "stream",
     "text": [
      "  key1   key2  data1  data2\n",
      "0    a    one      1      7\n",
      "1    b    one      7      1\n",
      "2    a    two      1      7\n",
      "3    b  three      7      5\n",
      "4    a    two      8      6\n",
      "5    b    two      5      1\n",
      "6    a    one      5      6\n",
      "7    a  three      1      1\n",
      "      data1                    data2                   \n",
      "        sum      mean max func   sum      mean max func\n",
      "key2                                                   \n",
      "one      13  4.333333   7    6    14  4.666667   7    6\n",
      "three     8  4.000000   7    6     6  3.000000   5    4\n",
      "two      14  4.666667   8    7    14  4.666667   7    6\n"
     ]
    }
   ],
   "source": [
    "print(df_obj5)\n",
    "\n",
    "print(df_obj5.groupby(\"key2\").agg(['sum','mean','max',func]))\n"
   ]
  },
  {
   "cell_type": "markdown",
   "metadata": {},
   "source": [
    "### 对不同列使用不同聚合函数\n"
   ]
  },
  {
   "cell_type": "code",
   "execution_count": 16,
   "metadata": {},
   "outputs": [
    {
     "name": "stdout",
     "output_type": "stream",
     "text": [
      "  key1   key2  data1  data2\n",
      "0    a    one      1      7\n",
      "1    b    one      7      1\n",
      "2    a    two      1      7\n",
      "3    b  three      7      5\n",
      "4    a    two      8      6\n",
      "5    b    two      5      1\n",
      "6    a    one      5      6\n",
      "7    a  three      1      1\n",
      "         data1  data2\n",
      "key1                 \n",
      "a     3.200000     27\n",
      "b     6.333333      7\n",
      "         data1 data2               \n",
      "          mean   sum      mean func\n",
      "key1                               \n",
      "a     3.200000    27  5.400000    6\n",
      "b     6.333333     7  2.333333    4\n"
     ]
    }
   ],
   "source": [
    "print(df_obj5)\n",
    "dict_mapping = {'data1':'mean','data2':'sum'}\n",
    "print(df_obj5.groupby('key1').agg(dict_mapping))\n",
    "dict_mapping = {'data1':'mean','data2':['sum','mean',func]}\n",
    "print(df_obj5.groupby('key1').agg(dict_mapping))"
   ]
  },
  {
   "cell_type": "code",
   "execution_count": 18,
   "metadata": {},
   "outputs": [
    {
     "name": "stdout",
     "output_type": "stream",
     "text": [
      "      sum_data1  sum_data2\n",
      "key1                      \n",
      "a            16         27\n",
      "b            19          7\n"
     ]
    }
   ],
   "source": [
    "#按key1分组后，计算data1，data2的统计信息并附加到原始表格中，并添加表头前缀\n",
    "k1_sum = df_obj5.groupby('key1').sum().add_prefix('sum_')\n",
    "print(k1_sum)\n"
   ]
  },
  {
   "cell_type": "markdown",
   "metadata": {},
   "source": [
    "# Pandas的排序"
   ]
  },
  {
   "cell_type": "markdown",
   "metadata": {},
   "source": [
    "## 1. 索引排序"
   ]
  },
  {
   "cell_type": "markdown",
   "metadata": {},
   "source": [
    "### Series"
   ]
  },
  {
   "cell_type": "code",
   "execution_count": 20,
   "metadata": {},
   "outputs": [
    {
     "name": "stdout",
     "output_type": "stream",
     "text": [
      "4    10\n",
      "1    11\n",
      "3    12\n",
      "4    13\n",
      "1    14\n",
      "dtype: int64\n"
     ]
    }
   ],
   "source": [
    "ser_obj2 = pd.Series(range(10,15),index=np.random.randint(5,size=5))\n",
    "print(ser_obj2)"
   ]
  },
  {
   "cell_type": "code",
   "execution_count": 22,
   "metadata": {},
   "outputs": [
    {
     "name": "stdout",
     "output_type": "stream",
     "text": [
      "1    11\n",
      "1    14\n",
      "3    12\n",
      "4    10\n",
      "4    13\n",
      "dtype: int64\n",
      "4    10\n",
      "4    13\n",
      "3    12\n",
      "1    11\n",
      "1    14\n",
      "dtype: int64\n"
     ]
    }
   ],
   "source": [
    "print(ser_obj2.sort_index()) # 默认升序排序\n",
    "print(ser_obj2.sort_index(ascending=False))"
   ]
  },
  {
   "cell_type": "markdown",
   "metadata": {},
   "source": [
    "### DataFrame"
   ]
  },
  {
   "cell_type": "code",
   "execution_count": 28,
   "metadata": {},
   "outputs": [
    {
     "name": "stdout",
     "output_type": "stream",
     "text": [
      "          3         2         2         3         1\n",
      "1  2.051069 -1.662379 -0.564714 -0.251901 -1.176514\n",
      "0  0.428163  1.042522 -0.907377  0.709390  0.761151\n",
      "2  1.551054  0.334315 -0.240035 -1.043763  1.487060\n",
      "          3         3         2         2         1\n",
      "1  2.051069 -0.251901 -1.662379 -0.564714 -1.176514\n",
      "0  0.428163  0.709390  1.042522 -0.907377  0.761151\n",
      "2  1.551054 -1.043763  0.334315 -0.240035  1.487060\n",
      "          3         2         2         3         1\n",
      "0  0.428163  1.042522 -0.907377  0.709390  0.761151\n",
      "1  2.051069 -1.662379 -0.564714 -0.251901 -1.176514\n",
      "2  1.551054  0.334315 -0.240035 -1.043763  1.487060\n"
     ]
    }
   ],
   "source": [
    "#对DataFrame操作时注意轴方向，默认列，axis = 1 为行\n",
    "df_obj = pd.DataFrame(np.random.randn(3, 5), \n",
    "                   index=np.random.randint(3, size=3),\n",
    "                   columns=np.random.randint(5, size=5))\n",
    "print(df_obj )\n",
    "# 列索引降序排序\n",
    "df_obj_isort = df_obj.sort_index(axis=1, ascending=False)\n",
    "print(df_obj_isort)\n",
    "# 行索引升序排序 （默认就是这种排序）等同 df_obj.sort_index()\n",
    "df_obj_isort = df_obj.sort_index(axis=0)\n",
    "print(df_obj_isort)"
   ]
  },
  {
   "cell_type": "markdown",
   "metadata": {},
   "source": [
    "## 2.按值排序"
   ]
  },
  {
   "cell_type": "markdown",
   "metadata": {},
   "source": [
    "sort_values(by='column name')\n",
    "根据某个唯一的列名进行排序，如果有其他相同列名则报错\n"
   ]
  },
  {
   "cell_type": "markdown",
   "metadata": {},
   "source": [
    "### Series对象 \n"
   ]
  },
  {
   "cell_type": "code",
   "execution_count": 29,
   "metadata": {},
   "outputs": [
    {
     "name": "stdout",
     "output_type": "stream",
     "text": [
      "0    18\n",
      "1    12\n",
      "2    10\n",
      "3    17\n",
      "4    17\n",
      "5    13\n",
      "6    16\n",
      "7    11\n",
      "8    12\n",
      "9    14\n",
      "dtype: int32\n",
      "2    10\n",
      "7    11\n",
      "1    12\n",
      "8    12\n",
      "5    13\n",
      "9    14\n",
      "6    16\n",
      "3    17\n",
      "4    17\n",
      "0    18\n",
      "dtype: int32\n",
      "0    18\n",
      "4    17\n",
      "3    17\n",
      "6    16\n",
      "9    14\n",
      "5    13\n",
      "8    12\n",
      "1    12\n",
      "7    11\n",
      "2    10\n",
      "dtype: int32\n"
     ]
    }
   ],
   "source": [
    "#创建随机Series对象\n",
    "ser_obj = pd.Series(np.random.randint(10,20,size= 10))\n",
    "print(ser_obj)\n",
    "print(ser_obj.sort_values()) #默认升序\n",
    "print(ser_obj.sort_values(ascending = False)) #降序"
   ]
  },
  {
   "cell_type": "markdown",
   "metadata": {},
   "source": [
    "###  DataFrame对象\n"
   ]
  },
  {
   "cell_type": "code",
   "execution_count": 31,
   "metadata": {},
   "outputs": [
    {
     "name": "stdout",
     "output_type": "stream",
     "text": [
      "          3         3         0         2         1\n",
      "0  0.057544 -0.572330 -1.329857  0.933553  0.077042\n",
      "0 -0.249510  0.701981 -0.352544 -0.294493 -0.261373\n",
      "1 -1.669200  1.218625 -0.685515  0.517565 -0.233256\n"
     ]
    }
   ],
   "source": [
    "# sort_values(by='column name') by:'列/行名'\n",
    "#如果根据某一个行名/列名来排序时，\n",
    "# 要保证没有其他相同的行名/列名，axis 指定排序的轴方向\n",
    "df4 = pd.DataFrame(np.random.randn(3, 5), \n",
    "                   index=np.random.randint(3, size=3),\n",
    "                   columns=np.random.randint(5, size=5))\n",
    "print(df4)\n"
   ]
  },
  {
   "cell_type": "code",
   "execution_count": 32,
   "metadata": {},
   "outputs": [
    {
     "name": "stdout",
     "output_type": "stream",
     "text": [
      "          3         3         0         2         1\n",
      "0  0.057544 -0.572330 -1.329857  0.933553  0.077042\n",
      "1 -1.669200  1.218625 -0.685515  0.517565 -0.233256\n",
      "0 -0.249510  0.701981 -0.352544 -0.294493 -0.261373\n",
      "          3         0         1         2         3\n",
      "0  0.057544 -1.329857  0.077042  0.933553 -0.572330\n",
      "0 -0.249510 -0.352544 -0.261373 -0.294493  0.701981\n",
      "1 -1.669200 -0.685515 -0.233256  0.517565  1.218625\n"
     ]
    }
   ],
   "source": [
    "print(df4.sort_values(by=0)) # 列名必须唯一\n",
    "print(df4.sort_values(by=1,axis=1))"
   ]
  },
  {
   "cell_type": "markdown",
   "metadata": {},
   "source": [
    "# 数据清洗\n",
    "## 处理缺失数据"
   ]
  },
  {
   "cell_type": "code",
   "execution_count": 33,
   "metadata": {},
   "outputs": [
    {
     "name": "stdout",
     "output_type": "stream",
     "text": [
      "     0  1    2    3\n",
      "0  1.0  2  NaN  NaN\n",
      "1  NaN  3  4.0  NaN\n",
      "2  0.0  1  2.0  3.0\n"
     ]
    }
   ],
   "source": [
    "df_obj = pd.DataFrame([\n",
    "    [1,2,np.nan,np.nan],\n",
    "    [np.nan,3,4,np.nan],\n",
    "    list(range(4))\n",
    "]\n",
    ")\n",
    "# 如果某一列中有一个数是Nan或者浮点数，其他数都转换为浮点数\n",
    "print(df_obj)\n"
   ]
  },
  {
   "cell_type": "code",
   "execution_count": 35,
   "metadata": {},
   "outputs": [
    {
     "name": "stdout",
     "output_type": "stream",
     "text": [
      "       0      1      2      3\n",
      "0  False  False   True   True\n",
      "1   True  False  False   True\n",
      "2  False  False  False  False\n"
     ]
    }
   ],
   "source": [
    "# 判断缺失值\n",
    "print(df_obj.isnull())"
   ]
  },
  {
   "cell_type": "markdown",
   "metadata": {},
   "source": [
    "### 删除缺失值"
   ]
  },
  {
   "cell_type": "code",
   "execution_count": 38,
   "metadata": {},
   "outputs": [
    {
     "name": "stdout",
     "output_type": "stream",
     "text": [
      "     0  1    2    3\n",
      "0  1.0  2  NaN  NaN\n",
      "1  NaN  3  4.0  NaN\n",
      "2  0.0  1  2.0  3.0\n",
      "     0  1    2    3\n",
      "2  0.0  1  2.0  3.0\n",
      "   1\n",
      "0  2\n",
      "1  3\n",
      "2  1\n"
     ]
    }
   ],
   "source": [
    "print(df_obj)\n",
    "# 删除缺失值所在的行\n",
    "print(df_obj.dropna()) \n",
    "# 删除缺失值所在的列\n",
    "print(df_obj.dropna(axis=1)) "
   ]
  },
  {
   "cell_type": "markdown",
   "metadata": {},
   "source": [
    "### 填充缺失数据"
   ]
  },
  {
   "cell_type": "code",
   "execution_count": 39,
   "metadata": {},
   "outputs": [
    {
     "name": "stdout",
     "output_type": "stream",
     "text": [
      "     0  1    2    3\n",
      "0  1.0  2  NaN  NaN\n",
      "1  NaN  3  4.0  NaN\n",
      "2  0.0  1  2.0  3.0\n",
      "     0  1    2    3\n",
      "0  1.0  2  0.0  0.0\n",
      "1  0.0  3  4.0  0.0\n",
      "2  0.0  1  2.0  3.0\n"
     ]
    }
   ],
   "source": [
    "print(df_obj)\n",
    "print(df_obj.fillna(0))\n"
   ]
  },
  {
   "cell_type": "markdown",
   "metadata": {},
   "source": [
    "## 数据去重"
   ]
  },
  {
   "cell_type": "code",
   "execution_count": 40,
   "metadata": {},
   "outputs": [
    {
     "name": "stdout",
     "output_type": "stream",
     "text": [
      "  data1  data2\n",
      "0     a      0\n",
      "1     a      3\n",
      "2     a      2\n",
      "3     a      0\n",
      "4     b      0\n",
      "5     b      3\n",
      "6     b      0\n",
      "7     b      1\n"
     ]
    }
   ],
   "source": [
    "df_obj = pd.DataFrame({'data1' : ['a'] * 4 + ['b'] * 4, \n",
    "                       'data2' : np.random.randint(0, 4, 8)})\n",
    "print(df_obj)\n"
   ]
  },
  {
   "cell_type": "code",
   "execution_count": 41,
   "metadata": {},
   "outputs": [
    {
     "name": "stdout",
     "output_type": "stream",
     "text": [
      "0    False\n",
      "1    False\n",
      "2    False\n",
      "3     True\n",
      "4    False\n",
      "5    False\n",
      "6     True\n",
      "7    False\n",
      "dtype: bool\n"
     ]
    }
   ],
   "source": [
    "#是否有重复行，和之前的行进行对比判断，如果有重复，则返回true，否则 false\n",
    "print(df_obj.duplicated())"
   ]
  },
  {
   "cell_type": "markdown",
   "metadata": {},
   "source": [
    "## 过滤重复行"
   ]
  },
  {
   "cell_type": "code",
   "execution_count": 42,
   "metadata": {},
   "outputs": [
    {
     "name": "stdout",
     "output_type": "stream",
     "text": [
      "  data1  data2\n",
      "0     a      0\n",
      "1     a      3\n",
      "2     a      2\n",
      "3     a      0\n",
      "4     b      0\n",
      "5     b      3\n",
      "6     b      0\n",
      "7     b      1\n",
      "  data1  data2\n",
      "0     a      0\n",
      "1     a      3\n",
      "2     a      2\n",
      "4     b      0\n",
      "5     b      3\n",
      "7     b      1\n"
     ]
    }
   ],
   "source": [
    "print(df_obj)\n",
    "# 去重重复行，每一列都相同\n",
    "print(df_obj.drop_duplicates())\n"
   ]
  },
  {
   "cell_type": "code",
   "execution_count": 43,
   "metadata": {},
   "outputs": [
    {
     "name": "stdout",
     "output_type": "stream",
     "text": [
      "  data1  data2\n",
      "0     a      0\n",
      "1     a      3\n",
      "2     a      2\n",
      "3     a      0\n",
      "4     b      0\n",
      "5     b      3\n",
      "6     b      0\n",
      "7     b      1\n",
      "  data1  data2\n",
      "0     a      0\n",
      "1     a      3\n",
      "2     a      2\n",
      "7     b      1\n"
     ]
    }
   ],
   "source": [
    "print(df_obj)\n",
    "# 去重重复行，指定列相同\n",
    "print(df_obj.drop_duplicates(\"data2\")) \n"
   ]
  },
  {
   "cell_type": "markdown",
   "metadata": {},
   "source": [
    "## 根据map传入的函数对每行或每列进行转换\n"
   ]
  },
  {
   "cell_type": "code",
   "execution_count": 44,
   "metadata": {},
   "outputs": [
    {
     "name": "stdout",
     "output_type": "stream",
     "text": [
      "0    6\n",
      "1    9\n",
      "2    7\n",
      "3    2\n",
      "4    9\n",
      "5    7\n",
      "6    9\n",
      "7    5\n",
      "8    8\n",
      "9    2\n",
      "dtype: int32\n",
      "0    36\n",
      "1    81\n",
      "2    49\n",
      "3     4\n",
      "4    81\n",
      "5    49\n",
      "6    81\n",
      "7    25\n",
      "8    64\n",
      "9     4\n",
      "dtype: int64\n"
     ]
    }
   ],
   "source": [
    "# Series根据map传入的函数对每行或每列进行转换\n",
    "# 范例\n",
    "ser_obj = pd.Series(np.random.randint(0,10,10))\n",
    "print(ser_obj) \n",
    "print(ser_obj.map(lambda x : x ** 2))"
   ]
  },
  {
   "cell_type": "markdown",
   "metadata": {},
   "source": [
    "## 数据替换\n"
   ]
  },
  {
   "cell_type": "code",
   "execution_count": 47,
   "metadata": {
    "collapsed": true
   },
   "outputs": [
    {
     "name": "stdout",
     "output_type": "stream",
     "text": [
      "0    1\n",
      "1    1\n",
      "2    7\n",
      "3    3\n",
      "4    0\n",
      "5    6\n",
      "6    2\n",
      "7    4\n",
      "8    6\n",
      "9    8\n",
      "dtype: int32\n"
     ]
    }
   ],
   "source": [
    "# replace根据值的内容进行替换\n",
    "# 接收两个参数，第一个参数的值替换为第二个参数的值\n",
    "ser_obj = pd.Series(np.random.randint(0,10,10))\n",
    "print(ser_obj)\n",
    "# 0    1\n",
    "# 1    1\n",
    "# 2    7\n",
    "# 3    3\n",
    "# 4    0\n",
    "# 5    6\n",
    "# 6    2\n",
    "# 7    4\n",
    "# 8    6\n",
    "# 9    8\n",
    "# dtype: int32"
   ]
  },
  {
   "cell_type": "code",
   "execution_count": 48,
   "metadata": {},
   "outputs": [
    {
     "name": "stdout",
     "output_type": "stream",
     "text": [
      "0    1\n",
      "1    1\n",
      "2    7\n",
      "3    3\n",
      "4    0\n",
      "5    6\n",
      "6    2\n",
      "7    4\n",
      "8    6\n",
      "9    8\n",
      "dtype: int32\n",
      "0      1\n",
      "1      1\n",
      "2      7\n",
      "3      3\n",
      "4      0\n",
      "5      6\n",
      "6      2\n",
      "7    100\n",
      "8      6\n",
      "9      8\n",
      "dtype: int32\n",
      "0      1\n",
      "1      1\n",
      "2   -200\n",
      "3      3\n",
      "4      0\n",
      "5      6\n",
      "6      2\n",
      "7   -100\n",
      "8      6\n",
      "9      8\n",
      "dtype: int64\n"
     ]
    }
   ],
   "source": [
    "print(ser_obj.replace(5,100)) #把所有5替换为100\n",
    "print(ser_obj.replace([4,5],100)) # 多个值替换一个值\n",
    "print(ser_obj.replace([4, 7], [-100, -200]))# 多个值替换多个值"
   ]
  },
  {
   "cell_type": "markdown",
   "metadata": {},
   "source": [
    "# Pandas的函数应用\n",
    "## 1. 可直接使用NumPy的函数"
   ]
  },
  {
   "cell_type": "code",
   "execution_count": 49,
   "metadata": {},
   "outputs": [
    {
     "name": "stdout",
     "output_type": "stream",
     "text": [
      "          0         1         2         3\n",
      "0 -1.362358 -2.295209  0.312203 -1.414287\n",
      "1 -0.733339 -1.263318  0.000027  0.119743\n",
      "2  0.854483 -1.919220 -0.623614 -0.903995\n",
      "3 -0.847397  0.269649  1.397216 -1.086830\n",
      "4 -1.151375 -2.398277 -2.828165  0.042131\n",
      "          0         1         2         3\n",
      "0  1.362358  2.295209  0.312203  1.414287\n",
      "1  0.733339  1.263318  0.000027  0.119743\n",
      "2  0.854483  1.919220  0.623614  0.903995\n",
      "3  0.847397  0.269649  1.397216  1.086830\n",
      "4  1.151375  2.398277  2.828165  0.042131\n"
     ]
    }
   ],
   "source": [
    "# 在numpy里，可以对数组里的每一个元素进行操作的函数称为\n",
    "# ufunc 通用函数（universal function）\n",
    "# 在Pandas里可以直接使用Numpy的ufunc\n",
    "# 范例\n",
    "df = pd.DataFrame(np.random.randn(5,4) - 1)\n",
    "print(df)\n",
    "print(np.abs(df)) # 求绝对值\n"
   ]
  },
  {
   "cell_type": "markdown",
   "metadata": {},
   "source": [
    "## 2. 通过apply将函数应用到列或行上"
   ]
  },
  {
   "cell_type": "code",
   "execution_count": 50,
   "metadata": {},
   "outputs": [
    {
     "name": "stdout",
     "output_type": "stream",
     "text": [
      "          0         1         2         3\n",
      "0 -1.362358 -2.295209  0.312203 -1.414287\n",
      "1 -0.733339 -1.263318  0.000027  0.119743\n",
      "2  0.854483 -1.919220 -0.623614 -0.903995\n",
      "3 -0.847397  0.269649  1.397216 -1.086830\n",
      "4 -1.151375 -2.398277 -2.828165  0.042131\n",
      "0    0.854483\n",
      "1    0.269649\n",
      "2    1.397216\n",
      "3    0.119743\n",
      "dtype: float64\n",
      "0    0.312203\n",
      "1    0.119743\n",
      "2    0.854483\n",
      "3    1.397216\n",
      "4    0.042131\n",
      "dtype: float64\n"
     ]
    }
   ],
   "source": [
    "# axis参数可以指定轴向，默认值为0，方向是列，值为1：方向是行\n",
    "# 范例\n",
    "f = lambda x : x.max()\n",
    "print(df)\n",
    "print(df.apply(lambda x : x.max()))\n",
    "print(df.apply(lambda x : x.max(), axis=1))\n"
   ]
  },
  {
   "cell_type": "markdown",
   "metadata": {},
   "source": [
    "\n",
    "## 3. 通过applymap将函数应用到每个数据上，只用于DataFrame"
   ]
  },
  {
   "cell_type": "code",
   "execution_count": 53,
   "metadata": {},
   "outputs": [
    {
     "name": "stdout",
     "output_type": "stream",
     "text": [
      "          0         1         2         3\n",
      "0 -1.362358 -2.295209  0.312203 -1.414287\n",
      "1 -0.733339 -1.263318  0.000027  0.119743\n",
      "2  0.854483 -1.919220 -0.623614 -0.903995\n",
      "3 -0.847397  0.269649  1.397216 -1.086830\n",
      "4 -1.151375 -2.398277 -2.828165  0.042131\n",
      "       0      1      2      3\n",
      "0  -1.36  -2.30   0.31  -1.41\n",
      "1  -0.73  -1.26   0.00   0.12\n",
      "2   0.85  -1.92  -0.62  -0.90\n",
      "3  -0.85   0.27   1.40  -1.09\n",
      "4  -1.15  -2.40  -2.83   0.04\n",
      "          0         1         2         3\n",
      "0 -2.724716 -4.590418  0.624406 -2.828573\n",
      "1 -1.466678 -2.526637  0.000055  0.239486\n",
      "2  1.708967 -3.838439 -1.247229 -1.807990\n",
      "3 -1.694794  0.539299  2.794432 -2.173660\n",
      "4 -2.302750 -4.796555 -5.656330  0.084262\n"
     ]
    }
   ],
   "source": [
    "print(df)\n",
    "f1 = lambda x : '%.2f' % x\n",
    "print(df.applymap(f1))\n",
    "f2 = lambda x: x+x\n",
    "print(df.applymap(f2))\n",
    "\n",
    "# DataFrame对象可以用apply()和applymap()\n",
    "# apply()应用于行，列，可以通过axis来指定"
   ]
  },
  {
   "cell_type": "code",
   "execution_count": null,
   "metadata": {},
   "outputs": [],
   "source": []
  },
  {
   "cell_type": "code",
   "execution_count": null,
   "metadata": {},
   "outputs": [],
   "source": []
  },
  {
   "cell_type": "code",
   "execution_count": null,
   "metadata": {},
   "outputs": [],
   "source": []
  },
  {
   "cell_type": "code",
   "execution_count": null,
   "metadata": {},
   "outputs": [],
   "source": []
  },
  {
   "cell_type": "code",
   "execution_count": null,
   "metadata": {},
   "outputs": [],
   "source": []
  }
 ],
 "metadata": {
  "kernelspec": {
   "display_name": "Python 3",
   "language": "python",
   "name": "python3"
  },
  "language_info": {
   "codemirror_mode": {
    "name": "ipython",
    "version": 3
   },
   "file_extension": ".py",
   "mimetype": "text/x-python",
   "name": "python",
   "nbconvert_exporter": "python",
   "pygments_lexer": "ipython3",
   "version": "3.6.8"
  }
 },
 "nbformat": 4,
 "nbformat_minor": 4
}
